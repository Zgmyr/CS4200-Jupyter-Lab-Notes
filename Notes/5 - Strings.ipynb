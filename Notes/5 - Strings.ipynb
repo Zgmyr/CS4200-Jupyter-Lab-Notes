{
 "cells": [
  {
   "cell_type": "markdown",
   "id": "68a3e66a-fa90-48db-ad45-a96f291e2c87",
   "metadata": {},
   "source": [
    "# Strings"
   ]
  },
  {
   "cell_type": "markdown",
   "id": "dfd1ef84-6ff6-4c0e-9d6f-5f9f2a040e37",
   "metadata": {},
   "source": [
    "## Formatting & String Manipulation"
   ]
  },
  {
   "cell_type": "markdown",
   "id": "1cf83f0f-5eca-418f-b543-7283feaa7177",
   "metadata": {},
   "source": [
    "#### F-Strings - Format Specifiers\n",
    "F-strings are used for string formatting & interpolation. Can use placeholders '{ }' for a value in an f-string & contents can be formatted. Placeholders should contain the value, followed by a semicolon ':', then the format specifier."
   ]
  },
  {
   "cell_type": "code",
   "execution_count": 6,
   "id": "aecc6565-3409-4116-a349-c35315f4c0a5",
   "metadata": {},
   "outputs": [
    {
     "data": {
      "text/plain": [
       "'17.49'"
      ]
     },
     "execution_count": 6,
     "metadata": {},
     "output_type": "execute_result"
    }
   ],
   "source": [
    "# f-string for decimal rounding - .2f format specifier\n",
    "f'{17.489523:.2f}'"
   ]
  },
  {
   "cell_type": "code",
   "execution_count": 8,
   "id": "edeeab8b-3a65-45ea-97cd-fb91e98c9243",
   "metadata": {},
   "outputs": [
    {
     "data": {
      "text/plain": [
       "'10'"
      ]
     },
     "execution_count": 8,
     "metadata": {},
     "output_type": "execute_result"
    }
   ],
   "source": [
    "# f-strings for converting to string - d format specifier\n",
    "f'{10:d}'"
   ]
  },
  {
   "cell_type": "code",
   "execution_count": 12,
   "id": "f999be3f-d282-4ecc-8afe-cb417e993d74",
   "metadata": {},
   "outputs": [
    {
     "data": {
      "text/plain": [
       "'1.000e+16'"
      ]
     },
     "execution_count": 12,
     "metadata": {},
     "output_type": "execute_result"
    }
   ],
   "source": [
    "from decimal import Decimal\n",
    "# f-strings for formatting to Exponential (scientific notation) - e format specifier\n",
    "f'{Decimal(\"10000000000000000.0\"):.3e}'"
   ]
  },
  {
   "cell_type": "code",
   "execution_count": 19,
   "id": "46ff67db-c338-48bf-a41a-e668714023cb",
   "metadata": {},
   "outputs": [
    {
     "data": {
      "text/plain": [
       "'[         Hello World]'"
      ]
     },
     "execution_count": 19,
     "metadata": {},
     "output_type": "execute_result"
    }
   ],
   "source": [
    "# f-strings right & left alignment - < > format specifiers\n",
    "f'[{\"Hello World\":>20}]'"
   ]
  },
  {
   "cell_type": "code",
   "execution_count": 21,
   "id": "2c16695a-e904-4f15-9e7d-b98edad60612",
   "metadata": {},
   "outputs": [
    {
     "data": {
      "text/plain": [
       "'[    Hello World     ]'"
      ]
     },
     "execution_count": 21,
     "metadata": {},
     "output_type": "execute_result"
    }
   ],
   "source": [
    "# f-strings centering alignment - ^ format specifier\n",
    "f'[{\"Hello World\":^20}]'"
   ]
  },
  {
   "cell_type": "code",
   "execution_count": 27,
   "id": "ee8dc48d-b119-44c9-8427-4b58d63a8364",
   "metadata": {},
   "outputs": [
    {
     "data": {
      "text/plain": [
       "'Gray Amanda'"
      ]
     },
     "execution_count": 27,
     "metadata": {},
     "output_type": "execute_result"
    }
   ],
   "source": [
    "# multiple placeholders - format()\n",
    "# '{} {}'.format('Amanda', 'Cyan')\n",
    "'{last} {first}'.format(first='Amanda', last='Gray')"
   ]
  },
  {
   "cell_type": "markdown",
   "id": "2dabfeaf-f95e-49a2-9d75-3ad14387321d",
   "metadata": {},
   "source": [
    "#### strip() - Stripping Whitespace\n",
    "Can remove leading & trailing whitespace with strip(), or just leading with lstrip() or just trailing with rstrip()"
   ]
  },
  {
   "cell_type": "code",
   "execution_count": 39,
   "id": "919048e4-f378-45cf-9cee-e85221b6701d",
   "metadata": {},
   "outputs": [
    {
     "data": {
      "text/plain": [
       "'This is a test string.'"
      ]
     },
     "execution_count": 39,
     "metadata": {},
     "output_type": "execute_result"
    }
   ],
   "source": [
    "# removing leading & trailing whitespace\n",
    "sentence = '\\t \\n This is a test string. \\t\\t \\n'\n",
    "sentence.strip()"
   ]
  },
  {
   "cell_type": "markdown",
   "id": "9e640716-810f-43c3-b8a9-97f618031367",
   "metadata": {},
   "source": [
    "#### capitalize() & title() - Changing Character Case"
   ]
  },
  {
   "cell_type": "code",
   "execution_count": 42,
   "id": "5a13e233-5aa6-4fde-b858-8477a1d43ee2",
   "metadata": {},
   "outputs": [
    {
     "data": {
      "text/plain": [
       "'Happy birthday'"
      ]
     },
     "execution_count": 42,
     "metadata": {},
     "output_type": "execute_result"
    }
   ],
   "source": [
    "# capitalizing String's first character\n",
    "'happy birthday'.capitalize()"
   ]
  },
  {
   "cell_type": "code",
   "execution_count": 45,
   "id": "48b7a23a-74ba-426e-a09e-1b263f37be1f",
   "metadata": {},
   "outputs": [
    {
     "data": {
      "text/plain": [
       "'Strings: A Deeper Look'"
      ]
     },
     "execution_count": 45,
     "metadata": {},
     "output_type": "execute_result"
    }
   ],
   "source": [
    "# capitalizing first character of every word in String\n",
    "'strings: a deeper look'.title()"
   ]
  },
  {
   "cell_type": "markdown",
   "id": "a47064e8-392f-4182-8c4d-dbd7b54248df",
   "metadata": {},
   "source": [
    "#### Comparison Operations with Strings\n",
    "Letters in strings are assigned integer values that allow them to be compared. Uppercase letters compare as less than lowercase letters."
   ]
  },
  {
   "cell_type": "code",
   "execution_count": 79,
   "id": "cd67b105-8693-42e4-a921-7fbfe62616da",
   "metadata": {},
   "outputs": [
    {
     "name": "stdout",
     "output_type": "stream",
     "text": [
      "A: 65; a: 97\n"
     ]
    }
   ],
   "source": [
    "# see the values of uppercase 'A' vs lowercase 'a'\n",
    "print(f'A: {ord(\"A\")}; a: {ord(\"a\")}')"
   ]
  },
  {
   "cell_type": "code",
   "execution_count": 81,
   "id": "8d34a941-c030-417e-87b8-1c8bc07c7c01",
   "metadata": {},
   "outputs": [
    {
     "data": {
      "text/plain": [
       "True"
      ]
     },
     "execution_count": 81,
     "metadata": {},
     "output_type": "execute_result"
    }
   ],
   "source": [
    "# string comparison\n",
    "'Orange' <= 'orange'"
   ]
  },
  {
   "cell_type": "markdown",
   "id": "5bb46da8-28ad-4898-bdac-9e4cc89a621d",
   "metadata": {},
   "source": [
    "## Working with Substrings"
   ]
  },
  {
   "cell_type": "markdown",
   "id": "1b4c3561-a107-4eb9-816a-5eedbd6bc76e",
   "metadata": {},
   "source": [
    "#### count() - Counting Occurrences of Substrings\n",
    "Count the occurrences of a substring within a greater string with count('substring',start_index,end_index)"
   ]
  },
  {
   "cell_type": "code",
   "execution_count": 1,
   "id": "36625403-5320-4e05-907c-d2b966e31363",
   "metadata": {},
   "outputs": [
    {
     "data": {
      "text/plain": [
       "1"
      ]
     },
     "execution_count": 1,
     "metadata": {},
     "output_type": "execute_result"
    }
   ],
   "source": [
    "# count occurences of 'to'\n",
    "sentence = 'to be or not to be that is the question'\n",
    "sentence.count('to',12)"
   ]
  },
  {
   "cell_type": "markdown",
   "id": "5e88fadf-1b68-4b94-bf0c-b6749733f457",
   "metadata": {},
   "source": [
    "#### index() - Locating Substrings\n",
    "Both index() & rindex() returns the index of substring (for first/last occurrence, respectively) or ValueError if not found."
   ]
  },
  {
   "cell_type": "code",
   "execution_count": 3,
   "id": "79025467-6bc5-4679-aceb-f1fb92e99e56",
   "metadata": {},
   "outputs": [
    {
     "data": {
      "text/plain": [
       "3"
      ]
     },
     "execution_count": 3,
     "metadata": {},
     "output_type": "execute_result"
    }
   ],
   "source": [
    "# index of first occurrence\n",
    "sentence.index('be')"
   ]
  },
  {
   "cell_type": "code",
   "execution_count": 4,
   "id": "432f1bbe-e529-4166-a1c0-768f4d23b9c1",
   "metadata": {},
   "outputs": [
    {
     "data": {
      "text/plain": [
       "16"
      ]
     },
     "execution_count": 4,
     "metadata": {},
     "output_type": "execute_result"
    }
   ],
   "source": [
    "# index of last occurrence\n",
    "sentence.rindex('be')"
   ]
  },
  {
   "cell_type": "markdown",
   "id": "a7680e64-45a9-48ae-bd3f-2b0d45f7c73f",
   "metadata": {},
   "source": [
    "#### String Contains a Substring?\n",
    "Can use the 'in' keyword to determine whether a string is contained in another string. Alternatively can test whether a string starts with, or ends with a substring using startswith() and endswidth()."
   ]
  },
  {
   "cell_type": "code",
   "execution_count": 14,
   "id": "ce1f6da3-3f74-4750-836f-be152926fd73",
   "metadata": {},
   "outputs": [
    {
     "data": {
      "text/plain": [
       "True"
      ]
     },
     "execution_count": 14,
     "metadata": {},
     "output_type": "execute_result"
    }
   ],
   "source": [
    "# using 'in' keyword\n",
    "'that' in sentence"
   ]
  },
  {
   "cell_type": "code",
   "execution_count": 16,
   "id": "bb26d720-2440-4470-a4e0-feefbd18b908",
   "metadata": {},
   "outputs": [
    {
     "data": {
      "text/plain": [
       "False"
      ]
     },
     "execution_count": 16,
     "metadata": {},
     "output_type": "execute_result"
    }
   ],
   "source": [
    "# checking start of a String\n",
    "sentence.startswith('be')"
   ]
  },
  {
   "cell_type": "code",
   "execution_count": 18,
   "id": "139480ac-40a2-430b-a27e-5c75080d39ee",
   "metadata": {},
   "outputs": [
    {
     "data": {
      "text/plain": [
       "True"
      ]
     },
     "execution_count": 18,
     "metadata": {},
     "output_type": "execute_result"
    }
   ],
   "source": [
    "# checking end of a String\n",
    "sentence.endswith('question')"
   ]
  },
  {
   "cell_type": "markdown",
   "id": "4032dc71-9fb1-4578-a38b-82d7dd1ec73d",
   "metadata": {},
   "source": [
    "#### replace() - Replacing Substrings\n",
    "Replace substrings using replace('target','replace_with')."
   ]
  },
  {
   "cell_type": "code",
   "execution_count": 22,
   "id": "24aba3e3-91f2-4fa2-b0e6-ccdbfc77b55b",
   "metadata": {},
   "outputs": [
    {
     "data": {
      "text/plain": [
       "'1,2,3,4,5'"
      ]
     },
     "execution_count": 22,
     "metadata": {},
     "output_type": "execute_result"
    }
   ],
   "source": [
    "# replacing tabs\n",
    "values = '1\\t2\\t3\\t4\\t5'\n",
    "values.replace('\\t',',')"
   ]
  },
  {
   "cell_type": "markdown",
   "id": "0716edd3-e487-4ef9-bbc0-ea03e7cba7f0",
   "metadata": {},
   "source": [
    "#### split() & join() - Splitting and Joining\n",
    "- split('delimiter')\n",
    "- 'delimiter'.join(list)"
   ]
  },
  {
   "cell_type": "code",
   "execution_count": 25,
   "id": "1b71f199-7d3f-4a83-a981-b18483eab06e",
   "metadata": {},
   "outputs": [
    {
     "data": {
      "text/plain": [
       "['A', 'B', 'C', 'D']"
      ]
     },
     "execution_count": 25,
     "metadata": {},
     "output_type": "execute_result"
    }
   ],
   "source": [
    "# splitting string into tokens\n",
    "letters = 'A, B, C, D'\n",
    "letters.split(', ')"
   ]
  },
  {
   "cell_type": "code",
   "execution_count": 31,
   "id": "ff41e4cb-1155-4724-a582-5322ebb223e9",
   "metadata": {},
   "outputs": [
    {
     "data": {
      "text/plain": [
       "'A | B | C'"
      ]
     },
     "execution_count": 31,
     "metadata": {},
     "output_type": "execute_result"
    }
   ],
   "source": [
    "# joining list back into string\n",
    "' | '.join(['A','B','C'])"
   ]
  },
  {
   "cell_type": "markdown",
   "id": "e5bd4f68-de55-4adc-8554-4a438879dd63",
   "metadata": {},
   "source": [
    "#### partition() - Partitioning Strings\n",
    "partition() can be used to split a string into a tuple of three strings based on the method's separator argument"
   ]
  },
  {
   "cell_type": "code",
   "execution_count": 36,
   "id": "1b82c3c1-02d9-4b99-9082-8d7de3c48085",
   "metadata": {},
   "outputs": [
    {
     "data": {
      "text/plain": [
       "('Amanda', ': ', '89, 97, 92')"
      ]
     },
     "execution_count": 36,
     "metadata": {},
     "output_type": "execute_result"
    }
   ],
   "source": [
    "# partitioning String with separator ':'\n",
    "'Amanda: 89, 97, 92'.partition(': ')"
   ]
  },
  {
   "cell_type": "code",
   "execution_count": 59,
   "id": "42a41413-e79c-4384-a0da-28b04ad163c3",
   "metadata": {},
   "outputs": [
    {
     "data": {
      "text/plain": [
       "'table_of_contents.html'"
      ]
     },
     "execution_count": 59,
     "metadata": {},
     "output_type": "execute_result"
    }
   ],
   "source": [
    "# partitioning url using right partition\n",
    "url = 'http://www.deitel.com/books/PyCDS/table_of_contents.html'\n",
    "rest_of_url, separator, document = url.rpartition('/')\n",
    "document"
   ]
  },
  {
   "cell_type": "markdown",
   "id": "ca1ec068-a7c7-4e5f-92c4-3d3b59a98d63",
   "metadata": {},
   "source": [
    "## Character Testing & Regular Expressions"
   ]
  },
  {
   "cell_type": "markdown",
   "id": "9c347374-4faa-4404-85fe-f81073f62fa1",
   "metadata": {},
   "source": [
    "#### Characters & Character-Testing Methods\n",
    "Python provides string methods for testing whether a string matches certain characteristics. Some of these include:\n",
    "- isalnum()\n",
    "- isalpha()\n",
    "- isdecimal()\n",
    "- isdigit()\n",
    "- isidentifier()\n",
    "- islower()\n",
    "- isnumeric()\n",
    "- isspace()\n",
    "- istitle()\n",
    "\n",
    "For more check out: https://www.w3schools.com/python/python_ref_string.asp"
   ]
  },
  {
   "cell_type": "code",
   "execution_count": 66,
   "id": "39ebbee6-8c5c-46a9-88f4-e0dd3c9cecc7",
   "metadata": {},
   "outputs": [
    {
     "data": {
      "text/plain": [
       "False"
      ]
     },
     "execution_count": 66,
     "metadata": {},
     "output_type": "execute_result"
    }
   ],
   "source": [
    "# checking for for digit (negative)\n",
    "'-27'.isdigit()"
   ]
  },
  {
   "cell_type": "code",
   "execution_count": 68,
   "id": "bbb2016e-ec74-4a8e-803d-650c06b0f3a6",
   "metadata": {},
   "outputs": [
    {
     "data": {
      "text/plain": [
       "True"
      ]
     },
     "execution_count": 68,
     "metadata": {},
     "output_type": "execute_result"
    }
   ],
   "source": [
    "# checking for digit (positive)\n",
    "'27'.isdigit()"
   ]
  },
  {
   "cell_type": "code",
   "execution_count": 70,
   "id": "a8e203d8-8134-4aa4-baf1-67e3c33f8251",
   "metadata": {},
   "outputs": [
    {
     "data": {
      "text/plain": [
       "True"
      ]
     },
     "execution_count": 70,
     "metadata": {},
     "output_type": "execute_result"
    }
   ],
   "source": [
    "# checking for alpha-numeric\n",
    "'A9876'.isalnum()"
   ]
  },
  {
   "cell_type": "markdown",
   "id": "788d234a-1151-4184-866c-30e278559f37",
   "metadata": {},
   "source": [
    "#### Raw Strings\n",
    "Used to make code more readable & often when working with regular expressions."
   ]
  },
  {
   "cell_type": "code",
   "execution_count": 87,
   "id": "253897dc-a8aa-45f8-9f7b-bbd3bd8d9142",
   "metadata": {},
   "outputs": [
    {
     "data": {
      "text/plain": [
       "'C:\\\\MyFolder\\\\MySubFolder\\\\MyFile.txt'"
      ]
     },
     "execution_count": 87,
     "metadata": {},
     "output_type": "execute_result"
    }
   ],
   "source": [
    "# regular string\n",
    "file_path = 'C:\\\\MyFolder\\\\MySubFolder\\\\MyFile.txt'\n",
    "file_path"
   ]
  },
  {
   "cell_type": "code",
   "execution_count": 89,
   "id": "b31ea8c9-d09c-48b8-aaa5-a62d2ed47671",
   "metadata": {},
   "outputs": [
    {
     "data": {
      "text/plain": [
       "'C:\\\\MyFolder\\\\MySubFolder\\\\MyFile.txt'"
      ]
     },
     "execution_count": 89,
     "metadata": {},
     "output_type": "execute_result"
    }
   ],
   "source": [
    "# raw string\n",
    "file_path = r'C:\\MyFolder\\MySubFolder\\MyFile.txt'\n",
    "file_path"
   ]
  },
  {
   "cell_type": "markdown",
   "id": "51496769-3fd8-48b0-9b90-e823d0c43193",
   "metadata": {},
   "source": [
    "#### Regular Expressions\n",
    "Regular expressions describe a search pattern for matching characters in other strings. Useful for:\n",
    "- Extracting data from unstructured text\n",
    "- Ensuring data is correct format before processing\n",
    "- Transforming/cleaning data through removing or reformatting data"
   ]
  },
  {
   "cell_type": "code",
   "execution_count": 97,
   "id": "76652b8b-398d-4b64-9cdf-84e6fb18b86d",
   "metadata": {},
   "outputs": [
    {
     "data": {
      "text/plain": [
       "'Match'"
      ]
     },
     "execution_count": 97,
     "metadata": {},
     "output_type": "execute_result"
    }
   ],
   "source": [
    "import re\n",
    "\n",
    "# matching strings\n",
    "pattern = '02215'\n",
    "'Match' if re.fullmatch(pattern, '02215') else 'No match'"
   ]
  },
  {
   "cell_type": "markdown",
   "id": "38d35191-667e-4050-8811-5b1847806a13",
   "metadata": {},
   "source": [
    "Regular Expression Metacharacters: https://www.w3schools.com/python/gloss_python_regex_metacharacters.asp"
   ]
  },
  {
   "cell_type": "code",
   "execution_count": 107,
   "id": "58605acd-121c-4708-90b9-aa52165016f4",
   "metadata": {},
   "outputs": [
    {
     "data": {
      "text/plain": [
       "'Valid'"
      ]
     },
     "execution_count": 107,
     "metadata": {},
     "output_type": "execute_result"
    }
   ],
   "source": [
    "# \\d is a character class representing a digit (0-9)\n",
    "# checking to see if '02215' is 5 digits (true)\n",
    "'Valid' if re.fullmatch(r'\\d{5}', '02215') else 'Invalid'"
   ]
  },
  {
   "cell_type": "code",
   "execution_count": 123,
   "id": "f5a1dc40-8531-4bd4-aa10-99b1c63a8713",
   "metadata": {},
   "outputs": [
    {
     "data": {
      "text/plain": [
       "'Valid'"
      ]
     },
     "execution_count": 123,
     "metadata": {},
     "output_type": "execute_result"
    }
   ],
   "source": [
    "# checking to see if word starts with capital letter, followed by zero or more lowercase letters\n",
    "'Valid' if re.fullmatch('[A-Z][a-z]*', 'Wally') else 'Invalid'"
   ]
  },
  {
   "cell_type": "code",
   "execution_count": 127,
   "id": "87cb9528-fb22-4ae0-bc95-8522cf19cf8c",
   "metadata": {},
   "outputs": [
    {
     "data": {
      "text/plain": [
       "'No match'"
      ]
     },
     "execution_count": 127,
     "metadata": {},
     "output_type": "execute_result"
    }
   ],
   "source": [
    "# when a custom character class starts with a caret (^), the class matches any\n",
    "#    character that's not specified\n",
    "# here we check if the character 'a' is NOT a lowercase letter (false)\n",
    "'Match' if re.fullmatch('[^a-z]', 'a') else 'No match'"
   ]
  },
  {
   "cell_type": "code",
   "execution_count": 129,
   "id": "70d7723c-fc29-437c-9beb-6ba4b35122f6",
   "metadata": {},
   "outputs": [
    {
     "data": {
      "text/plain": [
       "'Match'"
      ]
     },
     "execution_count": 129,
     "metadata": {},
     "output_type": "execute_result"
    }
   ],
   "source": [
    "# metacharacters in a custom character class are treated as literal characters\n",
    "'Match' if re.fullmatch('[*+$]', '*') else 'No match'"
   ]
  },
  {
   "cell_type": "code",
   "execution_count": 131,
   "id": "49fe54b4-9961-4b4f-b0cc-2eadc5c5b8ab",
   "metadata": {},
   "outputs": [
    {
     "data": {
      "text/plain": [
       "'Invalid'"
      ]
     },
     "execution_count": 131,
     "metadata": {},
     "output_type": "execute_result"
    }
   ],
   "source": [
    "# * vs + Quantifier -> * for zero or more, + for at least one or more\n",
    "# here we check for one capital followed by at least one lowercase\n",
    "'Valid' if re.fullmatch('[A-Z][a-z]+', 'E') else 'Invalid'"
   ]
  },
  {
   "cell_type": "code",
   "execution_count": 135,
   "id": "e9ce7d23-11e2-40bd-9b6a-d7ec3ca4279c",
   "metadata": {},
   "outputs": [
    {
     "data": {
      "text/plain": [
       "'Match'"
      ]
     },
     "execution_count": 135,
     "metadata": {},
     "output_type": "execute_result"
    }
   ],
   "source": [
    "# ? Quantifier matches zero or one occurrences of a subexpression\n",
    "# here we check for the word labelled or labeled, where the second 'l' is optional\n",
    "'Match' if re.fullmatch('labell?ed', 'labeled') else 'No match'"
   ]
  },
  {
   "cell_type": "code",
   "execution_count": 137,
   "id": "82dd3c49-debb-49c3-b676-11cde03a73fc",
   "metadata": {},
   "outputs": [
    {
     "data": {
      "text/plain": [
       "'No match'"
      ]
     },
     "execution_count": 137,
     "metadata": {},
     "output_type": "execute_result"
    }
   ],
   "source": [
    "# {n} quantifier matches at least n occurrences of a subexpression &\n",
    "#    {n,m} matches between n & m (inclusive)\n",
    "# here we check if the string is between 3-6 digits (false)\n",
    "'Match' if re.fullmatch(r'\\d{3,6}', '12') else 'No match'"
   ]
  },
  {
   "cell_type": "code",
   "execution_count": 141,
   "id": "d5b85b80-c5eb-4dc7-a6ce-0699309a593f",
   "metadata": {},
   "outputs": [
    {
     "data": {
      "text/plain": [
       "'1,2,3,4'"
      ]
     },
     "execution_count": 141,
     "metadata": {},
     "output_type": "execute_result"
    }
   ],
   "source": [
    "# substitute strings with re.sub('target_substring','replacement','string')\n",
    "# additionally may use count=# to specify number of replacements\n",
    "re.sub(r'\\t',',','1\\t2\\t3\\t4')"
   ]
  },
  {
   "cell_type": "code",
   "execution_count": 147,
   "id": "09fc4dbe-6799-4616-b3ee-df3cd61bfc02",
   "metadata": {},
   "outputs": [
    {
     "data": {
      "text/plain": [
       "['1', '2', '3', '4', '5', '6', '7', '8']"
      ]
     },
     "execution_count": 147,
     "metadata": {},
     "output_type": "execute_result"
    }
   ],
   "source": [
    "# tokenize a string with re.split('delimiter','string')\n",
    "# here our delimiter is a comma followed by zero or more whitespace\n",
    "# additionally may use maxsplit=# to specify maximum number of splits\n",
    "re.split(r',\\s*','1, 2, 3,4, 5,6,7,8')"
   ]
  },
  {
   "cell_type": "code",
   "execution_count": 151,
   "id": "a519ea7d-2271-4411-abff-965c989a821c",
   "metadata": {},
   "outputs": [
    {
     "data": {
      "text/plain": [
       "'Python'"
      ]
     },
     "execution_count": 151,
     "metadata": {},
     "output_type": "execute_result"
    }
   ],
   "source": [
    "# may find first match anywhere in a string with re.search('substring','string)\n",
    "result = re.search('Python','Python is fun')\n",
    "\n",
    "# re.search() returns a match object (if substring found) so we use\n",
    "#    re.group() to extract the actual matched string\n",
    "result.group() if result else 'not found'"
   ]
  },
  {
   "cell_type": "code",
   "execution_count": 153,
   "id": "037e1c34-8894-4e49-bec9-3769f61cb7e9",
   "metadata": {},
   "outputs": [
    {
     "data": {
      "text/plain": [
       "'not found'"
      ]
     },
     "execution_count": 153,
     "metadata": {},
     "output_type": "execute_result"
    }
   ],
   "source": [
    "# $ at the end of a re is an anchor indicating that the expression matches only the end of a string\n",
    "result = re.search('Python$','Python is fun')\n",
    "\n",
    "result.group() if result else 'not found'"
   ]
  },
  {
   "cell_type": "code",
   "execution_count": 155,
   "id": "faa50896-c0a5-43c4-97da-df286ce1e0c8",
   "metadata": {},
   "outputs": [
    {
     "data": {
      "text/plain": [
       "['555-555-1234', '555-555-4321']"
      ]
     },
     "execution_count": 155,
     "metadata": {},
     "output_type": "execute_result"
    }
   ],
   "source": [
    "# search string for every matching substring & return list of matching substrings\n",
    "#    using re.findall('substring','string')\n",
    "# here we find all phone numbers in a string using re\n",
    "contact = 'Wally White, Home: 555-555-1234, Work: 555-555-4321'\n",
    "\n",
    "re.findall(r'\\d{3}-\\d{3}-\\d{4}', contact)"
   ]
  },
  {
   "cell_type": "code",
   "execution_count": 157,
   "id": "78cc6160-be56-4ae5-9e3a-d97d1225952c",
   "metadata": {},
   "outputs": [
    {
     "name": "stdout",
     "output_type": "stream",
     "text": [
      "555-555-1234\n",
      "555-555-4321\n"
     ]
    }
   ],
   "source": [
    "# to save memory & perform same action as re.findall, but returning one substring at a time\n",
    "#    we can use re.finditer('substring','string')\n",
    "# note that finditer() returns a match object, so we use group() to extract matched string\n",
    "for phone in re.finditer(r'\\d{3}-\\d{3}-\\d{4}',contact):\n",
    "    print(phone.group())"
   ]
  },
  {
   "cell_type": "code",
   "execution_count": 166,
   "id": "145e0460-490c-4efd-b688-ec53b4f9daf5",
   "metadata": {},
   "outputs": [
    {
     "data": {
      "text/plain": [
       "('Charlie Cyan', 'demol@deitel.com')"
      ]
     },
     "execution_count": 166,
     "metadata": {},
     "output_type": "execute_result"
    }
   ],
   "source": [
    "# can capture, or search for two substrings using a comma\n",
    "text = 'Charlie Cyan, e-mail: demol@deitel.com'\n",
    "\n",
    "# our pattern is split, first two titles (words starting with capital letter),\n",
    "#    then an email specified by one or more alphanumeric characters, an '@', '.',\n",
    "#    and 3 more alphanumeric characters\n",
    "pattern = r'([A-Z][a-z]+ [A-Z][a-z]+), e-mail: (\\w+@\\w+\\.\\w{3})'\n",
    "result = re.search(pattern, text)\n",
    "\n",
    "# again, search returns a match object, we use re.groups() to extract matched substrings as tuple\n",
    "# note: groups() different from group()\n",
    "result.groups()"
   ]
  },
  {
   "cell_type": "code",
   "execution_count": 168,
   "id": "7ad981e8-d919-4b22-8eb4-a31990c93b05",
   "metadata": {},
   "outputs": [
    {
     "data": {
      "text/plain": [
       "'Charlie Cyan, e-mail: demol@deitel.com'"
      ]
     },
     "execution_count": 168,
     "metadata": {},
     "output_type": "execute_result"
    }
   ],
   "source": [
    "# groups() returns substrings as a tuple, group() returns as one string\n",
    "result.group()"
   ]
  },
  {
   "cell_type": "code",
   "execution_count": 170,
   "id": "535c6534-e204-47c6-adc2-2293556d1e91",
   "metadata": {},
   "outputs": [
    {
     "data": {
      "text/plain": [
       "'demol@deitel.com'"
      ]
     },
     "execution_count": 170,
     "metadata": {},
     "output_type": "execute_result"
    }
   ],
   "source": [
    "# when using group() for a string containing multiple matches, can specify the substring\n",
    "#    using numeric argument\n",
    "result.group(2)"
   ]
  },
  {
   "cell_type": "markdown",
   "id": "e2cb87dc-ce6e-44a9-b75e-b1f1f0de7c5c",
   "metadata": {},
   "source": [
    "## Data Science"
   ]
  },
  {
   "cell_type": "markdown",
   "id": "c2750c94-388b-442c-8041-a2e28d1efb60",
   "metadata": {},
   "source": [
    "#### Data Cleaning\n",
    "Data cleaning is a difficult & messy process. Some common data transformations include:\n",
    "- removing unnecessary data and features\n",
    "- combining related features\n",
    "- sampling data to obtain a representative subset\n",
    "- standardizing data formats\n",
    "- grouping data and more\n",
    "\n",
    "Bad data & missing values can significantly impact data analysis -- substitute withi a reasonable value"
   ]
  },
  {
   "cell_type": "code",
   "execution_count": 4,
   "id": "396e9a32-99c6-4f6a-b68f-2841c85afb22",
   "metadata": {},
   "outputs": [
    {
     "data": {
      "text/plain": [
       "Boston    02215\n",
       "Miami      3310\n",
       "dtype: object"
      ]
     },
     "execution_count": 4,
     "metadata": {},
     "output_type": "execute_result"
    }
   ],
   "source": [
    "import pandas as pd\n",
    "\n",
    "# example - using regular expressions to validate data\n",
    "zips = pd.Series({'Boston':'02215', 'Miami':'3310'})\n",
    "zips"
   ]
  },
  {
   "cell_type": "code",
   "execution_count": 10,
   "id": "5b580488-df81-4971-b946-29c1a8a24a90",
   "metadata": {},
   "outputs": [
    {
     "data": {
      "text/plain": [
       "Boston     True\n",
       "Miami     False\n",
       "dtype: bool"
      ]
     },
     "execution_count": 10,
     "metadata": {},
     "output_type": "execute_result"
    }
   ],
   "source": [
    "# using match() with RE to check for values with 5 digits\n",
    "zips.str.match(r'\\d{5}')"
   ]
  },
  {
   "cell_type": "code",
   "execution_count": 12,
   "id": "1064d690-165a-4272-943f-80ac5d7f7f92",
   "metadata": {},
   "outputs": [
    {
     "data": {
      "text/plain": [
       "0    True\n",
       "1    True\n",
       "dtype: bool"
      ]
     },
     "execution_count": 12,
     "metadata": {},
     "output_type": "execute_result"
    }
   ],
   "source": [
    "# example - using contains() to see if a value contains a substring\n",
    "# here we check if our data (cities) contains two capital letters (a state abbreviation)\n",
    "cities = pd.Series(['Boston, MA 02215', 'Miami, FL 33101'])\n",
    "\n",
    "cities.str.contains(r'[A-Z]{2}')"
   ]
  },
  {
   "cell_type": "markdown",
   "id": "c4d152a3-783a-48cf-a6ae-c2f91713f1c2",
   "metadata": {},
   "source": [
    "#### Data Reformatting"
   ]
  },
  {
   "cell_type": "code",
   "execution_count": 17,
   "id": "cddd0a8a-f291-4fae-a184-950052a15c15",
   "metadata": {},
   "outputs": [
    {
     "data": {
      "text/html": [
       "<div>\n",
       "<style scoped>\n",
       "    .dataframe tbody tr th:only-of-type {\n",
       "        vertical-align: middle;\n",
       "    }\n",
       "\n",
       "    .dataframe tbody tr th {\n",
       "        vertical-align: top;\n",
       "    }\n",
       "\n",
       "    .dataframe thead th {\n",
       "        text-align: right;\n",
       "    }\n",
       "</style>\n",
       "<table border=\"1\" class=\"dataframe\">\n",
       "  <thead>\n",
       "    <tr style=\"text-align: right;\">\n",
       "      <th></th>\n",
       "      <th>Name</th>\n",
       "      <th>Email</th>\n",
       "      <th>Phone</th>\n",
       "    </tr>\n",
       "  </thead>\n",
       "  <tbody>\n",
       "    <tr>\n",
       "      <th>0</th>\n",
       "      <td>Mike Green</td>\n",
       "      <td>demo1@deitel.com</td>\n",
       "      <td>5555555555</td>\n",
       "    </tr>\n",
       "    <tr>\n",
       "      <th>1</th>\n",
       "      <td>Sue Brown</td>\n",
       "      <td>demo2@deitel.com</td>\n",
       "      <td>5555551234</td>\n",
       "    </tr>\n",
       "  </tbody>\n",
       "</table>\n",
       "</div>"
      ],
      "text/plain": [
       "         Name             Email       Phone\n",
       "0  Mike Green  demo1@deitel.com  5555555555\n",
       "1   Sue Brown  demo2@deitel.com  5555551234"
      ]
     },
     "execution_count": 17,
     "metadata": {},
     "output_type": "execute_result"
    }
   ],
   "source": [
    "# example data containing name, email & phone\n",
    "contacts = [['Mike Green', 'demo1@deitel.com', '5555555555'],\n",
    "           ['Sue Brown', 'demo2@deitel.com', '5555551234']]\n",
    "\n",
    "contactsdf = pd.DataFrame(contacts, columns=['Name', 'Email', 'Phone'])\n",
    "\n",
    "contactsdf"
   ]
  },
  {
   "cell_type": "code",
   "execution_count": 19,
   "id": "0dc9c59b-d853-4de4-9f21-8359d9906e94",
   "metadata": {},
   "outputs": [
    {
     "data": {
      "text/plain": [
       "0    555-555-5555\n",
       "1    555-555-1234\n",
       "Name: Phone, dtype: object"
      ]
     },
     "execution_count": 19,
     "metadata": {},
     "output_type": "execute_result"
    }
   ],
   "source": [
    "# getting the formatted version of a phone number (including hyphens)\n",
    "import re\n",
    "\n",
    "def get_formatted_phone(value):\n",
    "    result = re.fullmatch(r'(\\d{3})(\\d{3})(\\d{4})', value)\n",
    "    return '-'.join(result.groups()) if result else value\n",
    "\n",
    "formatted_phone = contactsdf['Phone'].map(get_formatted_phone)\n",
    "\n",
    "formatted_phone"
   ]
  },
  {
   "cell_type": "code",
   "execution_count": 23,
   "id": "4939351b-6123-4076-a0f8-e3fbdcd0ab15",
   "metadata": {},
   "outputs": [
    {
     "data": {
      "text/html": [
       "<div>\n",
       "<style scoped>\n",
       "    .dataframe tbody tr th:only-of-type {\n",
       "        vertical-align: middle;\n",
       "    }\n",
       "\n",
       "    .dataframe tbody tr th {\n",
       "        vertical-align: top;\n",
       "    }\n",
       "\n",
       "    .dataframe thead th {\n",
       "        text-align: right;\n",
       "    }\n",
       "</style>\n",
       "<table border=\"1\" class=\"dataframe\">\n",
       "  <thead>\n",
       "    <tr style=\"text-align: right;\">\n",
       "      <th></th>\n",
       "      <th>Name</th>\n",
       "      <th>Email</th>\n",
       "      <th>Phone</th>\n",
       "    </tr>\n",
       "  </thead>\n",
       "  <tbody>\n",
       "    <tr>\n",
       "      <th>0</th>\n",
       "      <td>Mike Green</td>\n",
       "      <td>demo1@deitel.com</td>\n",
       "      <td>555-555-5555</td>\n",
       "    </tr>\n",
       "    <tr>\n",
       "      <th>1</th>\n",
       "      <td>Sue Brown</td>\n",
       "      <td>demo2@deitel.com</td>\n",
       "      <td>555-555-1234</td>\n",
       "    </tr>\n",
       "  </tbody>\n",
       "</table>\n",
       "</div>"
      ],
      "text/plain": [
       "         Name             Email         Phone\n",
       "0  Mike Green  demo1@deitel.com  555-555-5555\n",
       "1   Sue Brown  demo2@deitel.com  555-555-1234"
      ]
     },
     "execution_count": 23,
     "metadata": {},
     "output_type": "execute_result"
    }
   ],
   "source": [
    "# replacing the 'Phone' column in the table with formatted form\n",
    "contactsdf['Phone'] = formatted_phone\n",
    "\n",
    "contactsdf"
   ]
  },
  {
   "cell_type": "code",
   "execution_count": null,
   "id": "5be9ac1e-1383-483b-b9b1-e9f4965c3765",
   "metadata": {},
   "outputs": [],
   "source": []
  }
 ],
 "metadata": {
  "kernelspec": {
   "display_name": "Python [conda env:base] *",
   "language": "python",
   "name": "conda-base-py"
  },
  "language_info": {
   "codemirror_mode": {
    "name": "ipython",
    "version": 3
   },
   "file_extension": ".py",
   "mimetype": "text/x-python",
   "name": "python",
   "nbconvert_exporter": "python",
   "pygments_lexer": "ipython3",
   "version": "3.12.3"
  }
 },
 "nbformat": 4,
 "nbformat_minor": 5
}
