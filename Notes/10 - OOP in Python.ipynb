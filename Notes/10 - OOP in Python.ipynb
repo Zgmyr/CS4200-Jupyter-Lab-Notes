{
 "cells": [
  {
   "cell_type": "markdown",
   "id": "7c647f1d-b35d-433f-af1b-071f116bd8a9",
   "metadata": {},
   "source": [
    "# Object Oriented Programming"
   ]
  },
  {
   "cell_type": "markdown",
   "id": "5edff9cf-7c7b-4140-889c-4f2fd8dc536c",
   "metadata": {},
   "source": [
    "Classes are templates that bundle attributes and behaviors. Objects are individual instantiations of classes."
   ]
  },
  {
   "cell_type": "markdown",
   "id": "3d34bbce-6309-4ab0-93d5-073f997eddd3",
   "metadata": {},
   "source": [
    "#### Example of a simple Parrot Class"
   ]
  },
  {
   "cell_type": "code",
   "execution_count": 3,
   "id": "825d7229-c7ad-49ef-9223-4e7e5cce6d2b",
   "metadata": {},
   "outputs": [],
   "source": [
    "class Parrot:\n",
    "    #Class attributes\n",
    "    name = \"\"\n",
    "    age = 0\n",
    "\n",
    "# create parrot1 object\n",
    "parrot1 = Parrot()\n",
    "parrot1.name = \"Blu\"\n",
    "parrot1.age = 10\n",
    "\n",
    "# create another parrot2 object\n",
    "parrot2 = Parrot()\n",
    "parrot2.name = \"Woo\"\n",
    "parrot2.age = 15"
   ]
  },
  {
   "cell_type": "markdown",
   "id": "2966ca1a-146d-4052-9505-87d332a5f840",
   "metadata": {},
   "source": [
    "#### Encapsulation"
   ]
  },
  {
   "cell_type": "markdown",
   "id": "8c38f989-2e38-4335-a3d5-32642501e1e0",
   "metadata": {},
   "source": [
    "- encapsulation is when we bundle attributes and methods into a single class\n",
    "- our constructor '__init__(self)' handles setting default attributes upon object instantiation\n",
    "- in python we pass (self) as argument because we are talking about the object being created here"
   ]
  },
  {
   "cell_type": "code",
   "execution_count": 20,
   "id": "cadffbbf-5954-489a-98a7-5183f192436c",
   "metadata": {},
   "outputs": [
    {
     "name": "stdout",
     "output_type": "stream",
     "text": [
      "Selling Price: 900\n",
      "Selling Price: 900\n",
      "Selling Price: 1000\n"
     ]
    }
   ],
   "source": [
    "class Computer:\n",
    "\n",
    "    def __init__(self):\n",
    "        self.__maxprice = 900\n",
    "\n",
    "    def sell(self):\n",
    "        print(\"Selling Price: {}\".format(self.__maxprice))\n",
    "\n",
    "    def setMaxPrice(self,price):\n",
    "        self.__maxprice = price\n",
    "\n",
    "# default price should be 900\n",
    "c = Computer()\n",
    "c.sell() # should print 900\n",
    "\n",
    "# (attempt) change the price\n",
    "c.__maxprice = 1000 # attempt to change attribute from outside the class\n",
    "c.sell() # '__maxprice' seemingly not changed by accessing directly like this\n",
    "\n",
    "# Explanation (see name mangling below\n",
    "# print(c.__maxprice) # we can see that this created a public attribute '__maxprice' -\n",
    "    # -set to 1000, but this is not the same as the mangled '_Computer__maxprice'\n",
    "\n",
    "# using setter function\n",
    "c.setMaxPrice(1000)\n",
    "c.sell() # should properly dispaly a change in __maxprice"
   ]
  },
  {
   "cell_type": "markdown",
   "id": "4452e5e5-3c43-4136-b3f9-81e237b312d2",
   "metadata": {},
   "source": [
    "#### Note on Name Mangling\n",
    "- python does not have public variables, instead it has private variables\n",
    "- lack of \"private\" variables in classes is accomodated by name mangling, wherin variables prefixed with '__' inside a class are replaced by '_ClassName__var'\n",
    "- helps to prevent accidental reusing of variables"
   ]
  },
  {
   "cell_type": "markdown",
   "id": "038bde0b-ffa1-4afb-a7f5-7c3ce6a9f541",
   "metadata": {},
   "source": [
    "#### Other Ways to Get/Set Attributes"
   ]
  },
  {
   "cell_type": "code",
   "execution_count": 29,
   "id": "9659ad1e-edf9-4a53-9611-15ed0a4a74df",
   "metadata": {},
   "outputs": [
    {
     "name": "stdout",
     "output_type": "stream",
     "text": [
      "<__main__.Employee object at 0x0000027C12BE78F0>\n",
      "Suzanne\n",
      "Suzanne\n",
      "True\n",
      "full-time\n",
      "6000\n"
     ]
    }
   ],
   "source": [
    "class Employee:\n",
    "    name = 'Suzanne'\n",
    "    salary = 5000\n",
    "    pay_type = 'monthly'\n",
    "\n",
    "e1 = Employee()\n",
    "\n",
    "print(e1) # show object info\n",
    "\n",
    "# usual way of accessing the data associate with the object (via Property)\n",
    "print(e1.name)\n",
    "\n",
    "# using getattr instead of el.name\n",
    "print(getattr(e1, 'name'))\n",
    "\n",
    "# returns true if the object has that attribute\n",
    "print(hasattr(e1, 'name'))\n",
    "\n",
    "# sets an attribute\n",
    "setattr(e1, 'emp_type', 'full-time')\n",
    "print(getattr(e1, 'emp_type'))\n",
    "# setting an attribute via a property\n",
    "e1.salary = 6000\n",
    "print(e1.salary)\n",
    "\n",
    "# delete the attribute\n",
    "delattr(Employee, 'salary')"
   ]
  },
  {
   "cell_type": "markdown",
   "id": "5a2b560e-c856-4249-8ba4-0d5297265042",
   "metadata": {},
   "source": [
    "#### Inheritance (Superclasses & Subclasses)"
   ]
  },
  {
   "cell_type": "code",
   "execution_count": 33,
   "id": "379dedae-e204-4b71-abea-e764a9e77824",
   "metadata": {},
   "outputs": [
    {
     "name": "stdout",
     "output_type": "stream",
     "text": [
      "I can eat!\n",
      "I can sleep!\n",
      "I can bark! Woof woof!!\n"
     ]
    }
   ],
   "source": [
    "\n",
    "# base class\n",
    "class Animal:\n",
    "    def eat(self):\n",
    "        print(\"I can eat!\")\n",
    "    def sleep(self):\n",
    "        print(\"I can sleep!\")\n",
    "\n",
    "# derived class\n",
    "class Dog (Animal):\n",
    "    def bark(self):\n",
    "        print(\"I can bark! Woof woof!!\")\n",
    "\n",
    "# Create object of the Dog class\n",
    "dog1 = Dog()\n",
    "# Calling members of the base class\n",
    "dog1.eat()\n",
    "dog1.sleep()\n",
    "# Calling member of the derived class\n",
    "dog1.bark()"
   ]
  },
  {
   "cell_type": "markdown",
   "id": "d2440594-5be5-4450-bc7c-04f85ad50588",
   "metadata": {},
   "source": [
    "#### Polymorphism\n",
    "Polymorphism in Python means that the same function or method can work in different ways depending on the object it’s called on.\n",
    "- Ex. you can use the same speak() method for different classes like Dog or Cat, and each will have its own unique behavior.\n",
    "- For multiple classes that inherit a parent class, the most specific instance of that method is called depnding upon the calling object's class"
   ]
  },
  {
   "cell_type": "code",
   "execution_count": 38,
   "id": "2f3122ea-0738-4f81-9fe6-ab42a85a0cb2",
   "metadata": {},
   "outputs": [
    {
     "name": "stdout",
     "output_type": "stream",
     "text": [
      "Rendering Square...\n",
      "Rendering Circle...\n"
     ]
    }
   ],
   "source": [
    "class Polygon:\n",
    "    # method to render a shape\n",
    "    def render(self):\n",
    "        print(\"Rendering Polygon...\")\n",
    "\n",
    "class Square (Polygon):\n",
    "    # renders Square\n",
    "    def render(self):\n",
    "        print(\"Rendering Square...\")\n",
    "\n",
    "class Circle (Polygon): # renders circle\n",
    "    def render(self):\n",
    "        print(\"Rendering Circle...\")\n",
    "\n",
    "# create an object of Square\n",
    "s1 = Square()\n",
    "s1.render() # will use render() inside Square class\n",
    "\n",
    "# create an object of Circle\n",
    "c1 = Circle()\n",
    "c1.render() # will use render() inside Circle class"
   ]
  },
  {
   "cell_type": "markdown",
   "id": "5f463876-a0a8-4f2b-94a8-01029abd8b17",
   "metadata": {},
   "source": [
    "#### Duck Typing\n",
    "If an object implements the required methods or behaviors, it can be used in place of any other object, regardless of its specific type."
   ]
  },
  {
   "cell_type": "code",
   "execution_count": 42,
   "id": "95e6bfae-b40a-4ccc-a0d9-e8e733b02bf7",
   "metadata": {},
   "outputs": [
    {
     "name": "stdout",
     "output_type": "stream",
     "text": [
      "Quack!\n",
      "Swimming like a duck.\n",
      "I'm pretending to be a duck!\n",
      "I'm swimming, but I'm not a duck.\n"
     ]
    }
   ],
   "source": [
    "class Duck:\n",
    "    def quack(self):\n",
    "        print(\"Quack!\")\n",
    "\n",
    "    def swim(self):\n",
    "        print(\"Swimming like a duck.\")\n",
    "\n",
    "class Person:\n",
    "    def quack(self):\n",
    "        print(\"I'm pretending to be a duck!\")\n",
    "\n",
    "    def swim(self):\n",
    "        print(\"I'm swimming, but I'm not a duck.\")\n",
    "\n",
    "def act_like_a_duck(duck):\n",
    "    duck.quack()\n",
    "    duck.swim()\n",
    "\n",
    "# Using Duck class\n",
    "duck = Duck()\n",
    "act_like_a_duck(duck)\n",
    "\n",
    "# Using Person class (also quacks and swims)\n",
    "person = Person()\n",
    "act_like_a_duck(person)"
   ]
  },
  {
   "cell_type": "code",
   "execution_count": null,
   "id": "73adc965-accf-4b8a-843b-a9df61716ebe",
   "metadata": {},
   "outputs": [],
   "source": []
  }
 ],
 "metadata": {
  "kernelspec": {
   "display_name": "Python [conda env:base] *",
   "language": "python",
   "name": "conda-base-py"
  },
  "language_info": {
   "codemirror_mode": {
    "name": "ipython",
    "version": 3
   },
   "file_extension": ".py",
   "mimetype": "text/x-python",
   "name": "python",
   "nbconvert_exporter": "python",
   "pygments_lexer": "ipython3",
   "version": "3.12.3"
  }
 },
 "nbformat": 4,
 "nbformat_minor": 5
}
