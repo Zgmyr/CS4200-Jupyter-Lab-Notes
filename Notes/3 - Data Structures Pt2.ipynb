{
 "cells": [
  {
   "cell_type": "markdown",
   "id": "bffbda35-ac2a-4399-9f8a-80022d611840",
   "metadata": {},
   "source": [
    "# Dictionaries"
   ]
  },
  {
   "cell_type": "markdown",
   "id": "51e0b3cb-95e3-49e7-8751-d471e0e56897",
   "metadata": {},
   "source": [
    "#### Introduction to Dictionaries\n",
    "Datastructure that associates keys with values (each key maps to a specific value).\n",
    "\n",
    "NOTE: Each key MUST be unique, although values do not need to be unique"
   ]
  },
  {
   "cell_type": "code",
   "execution_count": 14,
   "id": "53b1226a-0401-4776-9413-2bc5a0cf8f9b",
   "metadata": {},
   "outputs": [
    {
     "data": {
      "text/plain": [
       "{'Finland': 'fi', 'South Africa': 'za', 'Nepal': 'np'}"
      ]
     },
     "execution_count": 14,
     "metadata": {},
     "output_type": "execute_result"
    }
   ],
   "source": [
    "country_codes = {'Finland': 'fi', 'South Africa': 'za', 'Nepal': 'np'}\n",
    "\n",
    "country_codes\n",
    "\n",
    "# we can additionally use len(country_codes) to determine length\n",
    "# or use 'country_codes' as a condition to determine if empty (e.g. if country_codes: )"
   ]
  },
  {
   "cell_type": "markdown",
   "id": "b35da999-4909-4348-98a2-32ae18fb4a37",
   "metadata": {},
   "source": [
    "#### Iterating through a Dictionary\n",
    "The items() method returns a view object containing the key-value pairs of a dictionary."
   ]
  },
  {
   "cell_type": "code",
   "execution_count": 24,
   "id": "16c9ab0e-359a-4195-9b62-06b8e8dfa7e2",
   "metadata": {},
   "outputs": [
    {
     "name": "stdout",
     "output_type": "stream",
     "text": [
      "January has 31 days\n",
      "February has 28 days\n",
      "March has 31 days\n"
     ]
    }
   ],
   "source": [
    "days_per_month = {'January': 31, 'February': 28, 'March': 31}\n",
    "\n",
    "for month, days in days_per_month.items():\n",
    "    print(f'{month} has {days} days')"
   ]
  },
  {
   "cell_type": "markdown",
   "id": "ea61818e-299c-48fc-b213-76082888a8a6",
   "metadata": {},
   "source": [
    "#### Basic Dictionary Operations\n",
    "1. Get a specific value from a dicitonary by specifying the key similar to indexes with lists.\n",
    "2. Add a key value pair to the dictionary through assignment\n",
    "3. Remove a key-value pair by specifying the key (using 'del' keyword)\n",
    "4. Pop a key-value pair by specifying the key"
   ]
  },
  {
   "cell_type": "code",
   "execution_count": 53,
   "id": "72a54cf3-4571-457c-a089-c52d88870a7e",
   "metadata": {},
   "outputs": [
    {
     "name": "stdout",
     "output_type": "stream",
     "text": [
      "5\n",
      "{'I': 1, 'II': 2, 'III': 3, 'V': 5, 'X': 10, 'L': 50}\n",
      "{'I': 1, 'II': 2, 'V': 5, 'X': 10, 'L': 50}\n",
      "10\n",
      "{'I': 1, 'II': 2, 'V': 5, 'L': 50}\n"
     ]
    }
   ],
   "source": [
    "roman_numerals = {'I': 1, 'II': 2, 'III': 3, 'V': 5, 'X': 10}\n",
    "\n",
    "# Getting a value by specifying a key\n",
    "print(roman_numerals['V'])\n",
    "\n",
    "# Adding a key-value pair through asssignment\n",
    "roman_numerals['L'] = 50\n",
    "print(roman_numerals)\n",
    "\n",
    "# Removing a key-value pair by specifying the key\n",
    "del roman_numerals['III']\n",
    "print(roman_numerals)\n",
    "\n",
    "# Popping a key-value pair (removing it)\n",
    "print(roman_numerals.pop('X'))\n",
    "print(roman_numerals)"
   ]
  },
  {
   "cell_type": "markdown",
   "id": "90ac197b-a405-4a39-a362-38ca811992d8",
   "metadata": {},
   "source": [
    "Additional Notes on Dictionary Keys:\n",
    "- attempting to access a nonexistent key results in 'KeyError'\n",
    "- prevent this error using 'get' method (e.g. roman_numerals.get('III') )\n",
    "- can use 'in' & 'not in' to test if key exists in dictionary"
   ]
  },
  {
   "cell_type": "code",
   "execution_count": 79,
   "id": "03f4b638-ff04-4771-85f3-b6d8d98aa712",
   "metadata": {},
   "outputs": [
    {
     "name": "stdout",
     "output_type": "stream",
     "text": [
      "3\n",
      "True\n"
     ]
    }
   ],
   "source": [
    "roman_numerals = {'I': 1, 'II': 2, 'III': 3, 'V': 5, 'X': 10}\n",
    "\n",
    "# using get() to find value of a key - 2nd argument specifies error message\n",
    "print(roman_numerals.get('III', 'not in dictionary'))\n",
    "\n",
    "# using 'in' to see if key exists\n",
    "print('V' in roman_numerals)"
   ]
  },
  {
   "cell_type": "markdown",
   "id": "6b87c6ab-18e7-4332-905e-4affd8ac0ac6",
   "metadata": {},
   "source": [
    "#### Dictionary Views\n",
    "Methods items(), keys(), and values() each return a view of a dictionary's data\n",
    "- keys() gets the keys of a target dictionary in form of a list\n",
    "- values() gets the values of a target dictionary in form of a list\n",
    "- items() gets both the key-value pairs of a dictionary in form of a list"
   ]
  },
  {
   "cell_type": "code",
   "execution_count": 107,
   "id": "c139e60f-0a22-42d1-9a04-cd2e73ad08da",
   "metadata": {},
   "outputs": [
    {
     "data": {
      "text/plain": [
       "dict_keys(['January', 'February', 'March', 'December'])"
      ]
     },
     "execution_count": 107,
     "metadata": {},
     "output_type": "execute_result"
    }
   ],
   "source": [
    "months = {'January': 1, 'February': 2, 'March': 3, 'December': 12}\n",
    "# what a dictionary view looks like:\n",
    "months.keys()"
   ]
  },
  {
   "cell_type": "code",
   "execution_count": 109,
   "id": "875fed65-f595-4a0e-9134-c0a01368ce76",
   "metadata": {},
   "outputs": [
    {
     "name": "stdout",
     "output_type": "stream",
     "text": [
      "January\tFebruary\tMarch\tDecember\t"
     ]
    }
   ],
   "source": [
    "# using keys()\n",
    "months_view = months.keys()\n",
    "\n",
    "# iterating months_view\n",
    "for key in months_view:\n",
    "    print(key, end='\\t')"
   ]
  },
  {
   "cell_type": "code",
   "execution_count": 111,
   "id": "1a76aaf6-6b3c-442f-8772-943267edb0bc",
   "metadata": {},
   "outputs": [
    {
     "data": {
      "text/plain": [
       "['January', 'February', 'March', 'December']"
      ]
     },
     "execution_count": 111,
     "metadata": {},
     "output_type": "execute_result"
    }
   ],
   "source": [
    "# converting a dictionary keys to a list\n",
    "list(months.keys())"
   ]
  },
  {
   "cell_type": "code",
   "execution_count": 117,
   "id": "2537dc6e-8789-446a-888d-db9221713ebd",
   "metadata": {},
   "outputs": [
    {
     "data": {
      "text/plain": [
       "[('January', 1), ('February', 2), ('March', 3), ('December', 12)]"
      ]
     },
     "execution_count": 117,
     "metadata": {},
     "output_type": "execute_result"
    }
   ],
   "source": [
    "# converting a dictionary's key-value pairs into a list (of tuples)\n",
    "list(months.items())"
   ]
  },
  {
   "cell_type": "markdown",
   "id": "5840f9e3-bfb2-4316-b8c8-c32a2ee8457e",
   "metadata": {},
   "source": [
    "#### Dictionary Comparisons\n",
    "Dictionaries can be compared using '==' and '!='.\n",
    "\n",
    "NOTE: order of key-value pairs is of no significance"
   ]
  },
  {
   "cell_type": "code",
   "execution_count": 130,
   "id": "ac788230-08d8-4de1-b6e2-7cf960f8247c",
   "metadata": {},
   "outputs": [
    {
     "data": {
      "text/plain": [
       "True"
      ]
     },
     "execution_count": 130,
     "metadata": {},
     "output_type": "execute_result"
    }
   ],
   "source": [
    "country_capitals1 = {'Belgium': 'Brussels', 'Haiti': 'Port-au-Prince'}\n",
    "country_capitals2 = {'Nepal': 'Kathmandu', 'Uruguay': 'Montevideo'}\n",
    "country_capitals3 = {'Haiti': 'Port-au-Prince', 'Belgium': 'Brussels'}\n",
    "\n",
    "country_capitals1 == country_capitals3"
   ]
  },
  {
   "cell_type": "markdown",
   "id": "ad15a0e5-4306-4bce-a5e1-dfc518ed6bc0",
   "metadata": {},
   "source": [
    "#### Ex. Using Dictionaries for Grades"
   ]
  },
  {
   "cell_type": "code",
   "execution_count": 141,
   "id": "190c4a9a-778f-4614-9ae9-84b57c332281",
   "metadata": {},
   "outputs": [
    {
     "name": "stdout",
     "output_type": "stream",
     "text": [
      "Average for Susan is 92.33\n",
      "Average for Eduardo is 85.67\n",
      "Average for Azizi is 87.33\n",
      "Average for Pantipa is 93.33\n",
      "Class's average is: 89.67\n"
     ]
    }
   ],
   "source": [
    "\"\"\"Using a dictionary to represent instructor's grade book\"\"\"\n",
    "grade_book = {\n",
    "    'Susan': [92,85,100],\n",
    "    'Eduardo': [83,95,79],\n",
    "    'Azizi': [91,89,82],\n",
    "    'Pantipa': [97,91,92]\n",
    "}\n",
    "all_grades_total = 0\n",
    "all_grades_count = 0\n",
    "\n",
    "# iterate through each student to sum that students total, report average\n",
    "#     for that individual student, & add to student total to global total\n",
    "for name, grades in grade_book.items():\n",
    "    total = sum(grades)\n",
    "    print(f'Average for {name} is {total/len(grades):.2f}')\n",
    "    all_grades_total += total\n",
    "    all_grades_count += len(grades)\n",
    "\n",
    "print(f\"Class's average is: {all_grades_total/all_grades_count:.2f}\")"
   ]
  },
  {
   "cell_type": "markdown",
   "id": "4259a028-e5d5-44df-99e8-691f41aeefaf",
   "metadata": {},
   "source": [
    "#### Ex. Using Dictionaries for Word Counts"
   ]
  },
  {
   "cell_type": "code",
   "execution_count": 139,
   "id": "f637f38d-bda0-4460-9d92-f78ee05cd2a4",
   "metadata": {},
   "outputs": [
    {
     "name": "stdout",
     "output_type": "stream",
     "text": [
      "WORD        COUNT\n",
      "different   1\n",
      "is          2\n",
      "more        1\n",
      "sample      2\n",
      "several     1\n",
      "some        1\n",
      "text        2\n",
      "this        1\n",
      "with        2\n",
      "words       1\n",
      "wordsthis   1\n",
      "\n",
      "Number of unique words: 11\n"
     ]
    }
   ],
   "source": [
    "\"\"\"Tokenizing a string and counting unique words.\"\"\"\n",
    "\n",
    "text = ('this is sample text with several words'\n",
    "        'this is more sample text with some different words')\n",
    "\n",
    "# create a dictionary to hold key-value pairs\n",
    "#    in form of 'word': frequency\n",
    "word_counts = {}\n",
    "\n",
    "# count occurences of each unique word\n",
    "for word in text.split(): # split() splits a string into a list\n",
    "    if word in word_counts:\n",
    "        word_counts[word] += 1 # update existing key-value pair\n",
    "    else:\n",
    "        word_counts[word] = 1 # insert new key-value pair\n",
    "\n",
    "print(f'{\"WORD\":<12}COUNT')\n",
    "\n",
    "for word, count in sorted(word_counts.items()):\n",
    "    print(f'{word:<12}{count}')\n",
    "\n",
    "print('\\nNumber of unique words:',len(word_counts))"
   ]
  },
  {
   "cell_type": "markdown",
   "id": "ca9602f9-776c-4acd-b388-0622bb192517",
   "metadata": {},
   "source": [
    "#### Ex. Word Counts using Collections Module"
   ]
  },
  {
   "cell_type": "code",
   "execution_count": 144,
   "id": "adcf7d44-b18d-4ee3-89fc-1ab027e6128c",
   "metadata": {},
   "outputs": [
    {
     "name": "stdout",
     "output_type": "stream",
     "text": [
      "   different\t1\n",
      "          is\t2\n",
      "        more\t1\n",
      "      sample\t2\n",
      "     several\t1\n",
      "        some\t1\n",
      "        text\t2\n",
      "        this\t1\n",
      "        with\t2\n",
      "       words\t1\n",
      "   wordsthis\t1\n"
     ]
    }
   ],
   "source": [
    "\"\"\"Performing the same task from above using collections\"\"\"\n",
    "from collections import Counter\n",
    "\n",
    "text = ('this is sample text with several words'\n",
    "        'this is more sample text with some different words')\n",
    "\n",
    "counter = Counter(text.split())\n",
    "\n",
    "for word, count in sorted(counter.items()):\n",
    "    print(f'{word:>12}\\t{count}')"
   ]
  },
  {
   "cell_type": "code",
   "execution_count": 149,
   "id": "5a1ff554-d342-45b5-b649-2bfedd2d1307",
   "metadata": {},
   "outputs": [
    {
     "data": {
      "text/plain": [
       "Counter({'is': 2,\n",
       "         'sample': 2,\n",
       "         'text': 2,\n",
       "         'with': 2,\n",
       "         'this': 1,\n",
       "         'several': 1,\n",
       "         'wordsthis': 1,\n",
       "         'more': 1,\n",
       "         'some': 1,\n",
       "         'different': 1,\n",
       "         'words': 1})"
      ]
     },
     "execution_count": 149,
     "metadata": {},
     "output_type": "execute_result"
    }
   ],
   "source": [
    "# out of curiousity, this is what the counter object looks like:\n",
    "# (counter similar to dictionary, but provides layer of wrapping above the dictionary)\n",
    "counter"
   ]
  },
  {
   "cell_type": "markdown",
   "id": "2b51fe7f-7a1f-4b09-8eac-a03415b93eec",
   "metadata": {},
   "source": [
    "#### Inserting Key-Value Pairs - 'update()'\n",
    "Add key-value pairs using update() (similar to append for lists). Either use '{ }' notation to specify key & value or use assignment format"
   ]
  },
  {
   "cell_type": "code",
   "execution_count": 157,
   "id": "fbe954cf-679b-40a1-93f4-022a5f906076",
   "metadata": {},
   "outputs": [
    {
     "name": "stdout",
     "output_type": "stream",
     "text": [
      "{'South Africa': 'za'}\n",
      "{'South Africa': 'za', 'Australia': 'ar'}\n"
     ]
    }
   ],
   "source": [
    "country_codes = {}\n",
    "\n",
    "# using curly braces format\n",
    "country_codes.update({'South Africa': 'za'})\n",
    "print(country_codes)\n",
    "\n",
    "# using '=' assignment format\n",
    "country_codes.update(Australia='ar')\n",
    "print(country_codes)"
   ]
  },
  {
   "cell_type": "markdown",
   "id": "541ea540-8c31-40cf-9c99-5a1d654b9c04",
   "metadata": {},
   "source": [
    "#### Dictionary Comprehensions\n",
    "Can provide convenient notation for quickly generating dictionaries. Often mapping one dictionary to another."
   ]
  },
  {
   "cell_type": "code",
   "execution_count": 171,
   "id": "c84221f6-c7db-4d1e-8bd8-afd0f1f86cf3",
   "metadata": {},
   "outputs": [
    {
     "data": {
      "text/plain": [
       "{1: 'January', 2: 'February', 3: 'March'}"
      ]
     },
     "execution_count": 171,
     "metadata": {},
     "output_type": "execute_result"
    }
   ],
   "source": [
    "# reverse a dictionary\n",
    "months = {'January': 1, 'February': 2, 'March': 3}\n",
    "months2 = {number: name for name, number in months.items()}\n",
    "months2\n",
    "\n",
    "# NOTE: if we try to swap keys & values but a value appears more than once, the resulting\n",
    "#    dictionary may be altered (remember that keys must be unique"
   ]
  },
  {
   "cell_type": "code",
   "execution_count": 168,
   "id": "6e004866-e4bc-4d70-8954-630d1335ec21",
   "metadata": {},
   "outputs": [
    {
     "data": {
      "text/plain": [
       "{'Sue': 93.0, 'Bob': 90.0}"
      ]
     },
     "execution_count": 168,
     "metadata": {},
     "output_type": "execute_result"
    }
   ],
   "source": [
    "# mapping a list of grades into an average\n",
    "grades = {'Sue': [98,87,94], 'Bob': [84,95,91]}\n",
    "grades2 = {k: sum(v) / len(v) for k, v in grades.items()}\n",
    "grades2"
   ]
  },
  {
   "cell_type": "markdown",
   "id": "e47417cc-e45e-4913-9458-ca9bc9e63ea9",
   "metadata": {},
   "source": [
    "# Sets"
   ]
  },
  {
   "cell_type": "markdown",
   "id": "2c92f668-62e6-48b8-8d29-af5c797c2b12",
   "metadata": {},
   "source": [
    "#### Introduction to Sets\n",
    "A set is an unordered collection of unique values that are immutable. Created using curly braces { }\n",
    "- iterable but not sequences\n",
    "- do not support indexing and slicing with square brackets, []\n",
    "- NO DUPLICATES!"
   ]
  },
  {
   "cell_type": "code",
   "execution_count": 174,
   "id": "ef3250ac-81cc-4da9-8f01-2e9849c49189",
   "metadata": {},
   "outputs": [
    {
     "data": {
      "text/plain": [
       "{'blue', 'green', 'orange', 'red', 'yellow'}"
      ]
     },
     "execution_count": 174,
     "metadata": {},
     "output_type": "execute_result"
    }
   ],
   "source": [
    "colors = {'red','orange','yellow','green','red','blue'}\n",
    "colors"
   ]
  },
  {
   "cell_type": "code",
   "execution_count": 178,
   "id": "e1f6560b-e89a-4535-a36f-6a11f6694a30",
   "metadata": {},
   "outputs": [
    {
     "name": "stdout",
     "output_type": "stream",
     "text": [
      "5\n",
      "True\n"
     ]
    }
   ],
   "source": [
    "# can determine a set's length\n",
    "print(len(colors))\n",
    "\n",
    "# check whether a value exists in a set\n",
    "print('red' in colors)"
   ]
  },
  {
   "cell_type": "markdown",
   "id": "67e7150d-bfd7-4190-9bcf-1d42b7f16ada",
   "metadata": {},
   "source": [
    "#### Iterating through a set"
   ]
  },
  {
   "cell_type": "code",
   "execution_count": 183,
   "id": "7d92826a-bf18-40ac-9e8d-c065391cfec3",
   "metadata": {},
   "outputs": [
    {
     "name": "stdout",
     "output_type": "stream",
     "text": [
      "GREEN\tYELLOW\tORANGE\tRED\tBLUE\t"
     ]
    }
   ],
   "source": [
    "for color in colors:\n",
    "    print(color.upper(),end='\\t')"
   ]
  },
  {
   "cell_type": "markdown",
   "id": "093b759b-9c2d-4582-bb72-59170f91854e",
   "metadata": {},
   "source": [
    "#### Creating a Set\n",
    "May create sets using the set() function, or create an empty set."
   ]
  },
  {
   "cell_type": "code",
   "execution_count": 197,
   "id": "a9e4bc27-a927-471d-adef-a6cff6b6a4af",
   "metadata": {},
   "outputs": [
    {
     "name": "stdout",
     "output_type": "stream",
     "text": [
      "[0, 1, 2, 3, 4, 5, 6, 7, 8, 9, 0, 1, 2, 3, 4]\n",
      "{0, 1, 2, 3, 4, 5, 6, 7, 8, 9}\n",
      "set()\n"
     ]
    }
   ],
   "source": [
    "numbers = list(range(10)) + list(range(5))\n",
    "print(numbers)\n",
    "\n",
    "# create a set of the unique numbers from above\n",
    "print(set(numbers))\n",
    "\n",
    "# create empty set\n",
    "a_set = set()\n",
    "print(a_set)"
   ]
  },
  {
   "cell_type": "markdown",
   "id": "94936af9-ecdf-42a9-974d-fac3f64afbde",
   "metadata": {},
   "source": [
    "#### Set Operations\n",
    "We can find the union ( | ), intersection ( & ) & difference ( - ) of two sets\n",
    "- union: set consisting of all the unique elements from both sets\n",
    "- intersection: set consisting of all unique elements that the two sets have in common\n",
    "- difference: set consisting of all the elements in the left oprand that are not in the right operand"
   ]
  },
  {
   "cell_type": "code",
   "execution_count": 11,
   "id": "a1e0fd4c-5a30-4d0f-a060-0ed8143c0e09",
   "metadata": {},
   "outputs": [
    {
     "name": "stdout",
     "output_type": "stream",
     "text": [
      "{1, 2, 3, 4, 5}\n",
      "{3}\n",
      "{1, 5}\n"
     ]
    }
   ],
   "source": [
    "set_a = {1,3,5}\n",
    "set_b = {2,3,4}\n",
    "\n",
    "# getting the union of two sets\n",
    "print(set_a | set_b)\n",
    "\n",
    "# getting the intersection of two sets\n",
    "print(set_a & set_b)\n",
    "\n",
    "# getting the difference of two sets\n",
    "print(set_a - set_b)"
   ]
  },
  {
   "cell_type": "markdown",
   "id": "6f422249-a366-4dcf-aa88-e9266a8ba5a8",
   "metadata": {},
   "source": [
    "Additionally, we can find the symettrical difference ( ^ ) & determine whether two sets are disjoint.\n",
    "- symmetric difference: set consisting of the elements of both sets that are not in common with one another (as opposed to regular difference which only considers the set as the left operand\n",
    "- disjoint: use 'isdisjoint()' method to determine if two sets have no common elements"
   ]
  },
  {
   "cell_type": "code",
   "execution_count": 22,
   "id": "4560e07e-cd10-4dd6-a6c2-b0d131aa16e2",
   "metadata": {},
   "outputs": [
    {
     "name": "stdout",
     "output_type": "stream",
     "text": [
      "{1, 2, 4, 5}\n",
      "False\n"
     ]
    }
   ],
   "source": [
    "set_a = {1,3,5}\n",
    "set_b = {2,3,4}\n",
    "\n",
    "# getting symmetric difference\n",
    "print(set_a ^ set_b)\n",
    "\n",
    "# checking for disjoint\n",
    "print(set_a.isdisjoint(set_b)) # set_a & set_b share a common value, so False"
   ]
  },
  {
   "cell_type": "markdown",
   "id": "a71598b1-79fc-4b2b-b10d-8e8b7647c0a7",
   "metadata": {},
   "source": [
    "We can also perform a union operation ( | ) by using the update() method"
   ]
  },
  {
   "cell_type": "code",
   "execution_count": 25,
   "id": "26435924-7ce5-436d-9533-c5f4f1036c13",
   "metadata": {},
   "outputs": [
    {
     "name": "stdout",
     "output_type": "stream",
     "text": [
      "{0, 1, 2, 3, 4, 5, 6, 7, 8, 9}\n"
     ]
    }
   ],
   "source": [
    "numbers = {1,3,5}\n",
    "\n",
    "# using update() to modify the targeted set\n",
    "numbers.update(range(10))\n",
    "print(numbers)"
   ]
  },
  {
   "cell_type": "markdown",
   "id": "6bb01857-f015-46d0-8b02-2505cd6dc07c",
   "metadata": {},
   "source": [
    "#### Augmented Assignments\n",
    "We can perform union ( |= ), intersection ( &= ), difference ( -= ) & symmetric difference ( ^= ) on the same set using augmented assignemnts\n",
    "- We can additionally use methods 'intersection_update', 'difference_update' and 'symmetric_difference_update' passing an iterable argument"
   ]
  },
  {
   "cell_type": "code",
   "execution_count": 33,
   "id": "9ad8b5b3-f7ea-4fa7-91c6-ddd1d6804b0e",
   "metadata": {},
   "outputs": [
    {
     "name": "stdout",
     "output_type": "stream",
     "text": [
      "{1, 3, 5, 6, 8}\n",
      "{5, 6, 8}\n"
     ]
    }
   ],
   "source": [
    "numbers = {1,3,5}\n",
    "\n",
    "# augmented union\n",
    "numbers |= {8,5,6}\n",
    "print(numbers)\n",
    "\n",
    "numbers.difference_update({1,2,3})\n",
    "print(numbers)"
   ]
  },
  {
   "cell_type": "markdown",
   "id": "70bc21f7-7945-4b4a-90d5-aa7184b2d918",
   "metadata": {},
   "source": [
    "#### Adding/Removing Elements\n",
    "We can add elements with the add() method & remove with the remove() method\n",
    "\n",
    "NOTE: 'KeyError' will be returned if value is not in the set"
   ]
  },
  {
   "cell_type": "code",
   "execution_count": 42,
   "id": "910e7f6f-68cd-49f2-b5dc-6fb2b7435ef7",
   "metadata": {},
   "outputs": [
    {
     "name": "stdout",
     "output_type": "stream",
     "text": [
      "{2, 4, 6, 8, 10}\n",
      "{4, 6, 8, 10}\n"
     ]
    }
   ],
   "source": [
    "numbers = {2,4,6,8}\n",
    "\n",
    "# adding elements\n",
    "numbers.add(10)\n",
    "print(numbers)\n",
    "\n",
    "# removing an element\n",
    "numbers.remove(2)\n",
    "print(numbers)"
   ]
  },
  {
   "cell_type": "markdown",
   "id": "bc6f0525-5816-4a96-afc7-c99695d0d39f",
   "metadata": {},
   "source": [
    "We can also use pop() to remove AND return an element. This is different from dictionaries though, because we can not specify an element to pop, it just pops the top (last) element\n",
    "\n",
    "NOTE: 'KeyError' occurs if the set is empty when pop is called"
   ]
  },
  {
   "cell_type": "code",
   "execution_count": 48,
   "id": "1e325925-486b-4a79-aa32-1c6f9256e5d7",
   "metadata": {},
   "outputs": [
    {
     "data": {
      "text/plain": [
       "8"
      ]
     },
     "execution_count": 48,
     "metadata": {},
     "output_type": "execute_result"
    }
   ],
   "source": [
    "numbers = {2,4,6,8}\n",
    "numbers.pop()"
   ]
  },
  {
   "cell_type": "markdown",
   "id": "44df3910-9c92-4fac-a021-ec3fd425c206",
   "metadata": {},
   "source": [
    "Empty a set with clear()"
   ]
  },
  {
   "cell_type": "code",
   "execution_count": 58,
   "id": "c10217ac-c42d-4e9f-9343-690b229a57be",
   "metadata": {},
   "outputs": [
    {
     "name": "stdout",
     "output_type": "stream",
     "text": [
      "set()\n"
     ]
    }
   ],
   "source": [
    "numbers = {2,4,6}\n",
    "numbers.clear()\n",
    "print(numbers)"
   ]
  },
  {
   "cell_type": "markdown",
   "id": "c74c170d-6ac3-4e2a-b45a-96ac038e1ff6",
   "metadata": {},
   "source": [
    "# Data Science - Dynamic Visualizations"
   ]
  },
  {
   "cell_type": "markdown",
   "id": "bb3aa716-2b37-4a0f-bb17-6a8920c946c4",
   "metadata": {},
   "source": [
    "To produce a dynamic visualization, the code needs to be enhanced with the Matplotlib animation module's FuncAnimation function to update the bar plot dynamically."
   ]
  },
  {
   "cell_type": "markdown",
   "id": "4cc6c08c-53d6-4f89-a3ed-1b569136ad28",
   "metadata": {},
   "source": [
    "#### Law of Large Numbers - 6 sided die\n",
    "In the example below we see the law of large numbers. For a six-sided die, each value should occur one-sixth of the time"
   ]
  },
  {
   "cell_type": "code",
   "execution_count": 87,
   "id": "f6b15072-dd22-43bb-8d30-dc3983d39eb3",
   "metadata": {},
   "outputs": [
    {
     "data": {
      "text/plain": [
       "<Figure size 640x480 with 0 Axes>"
      ]
     },
     "metadata": {},
     "output_type": "display_data"
    }
   ],
   "source": [
    "# RollDieDynamic.py\n",
    "\"\"\"Dynamically graphing frequencies of die rolls.\"\"\"\n",
    "from matplotlib import animation\n",
    "import matplotlib.pyplot as plt\n",
    "import random\n",
    "import seaborn as sns\n",
    "import sys\n",
    "\n",
    "def update(frame_number, rolls, faces, frequencies):\n",
    "    \"\"\"Configures bar plot contents for each animation frame.\"\"\"\n",
    "\n",
    "    # roll die and update frequencies\n",
    "    for i in range(rolls):\n",
    "        frequencies[random.randrange(1,7) - 1] += 1\n",
    "    # reconfigure plot for updated die frequencies\n",
    "    plt.cla() # clear old contents of current Figure\n",
    "    axes = sns.barplot(x=faces, y=frequencies, palette='bright') # new bars\n",
    "    axes.set_title(f'Die Frequencies for {sum(frequencies):,} Rolls')\n",
    "    axes.set(xlabel='Die Value', ylabel='Frequency')\n",
    "    axes.set_ylim(top=max(frequencies) * 1.10) # scale y-axis by 10%\n",
    "\n",
    "    # display frequency and percentage above each patch (bar)\n",
    "    for bar, frequency in zip(axes.patches, frequencies):\n",
    "        text_x = bar.get_x() + bar.get_width() / 2.0\n",
    "        text_y = bar.get_height()\n",
    "        text = f'{frequency:,}\\n{frequency / sum(frequencies):.3%}'\n",
    "        axes.text(text_x, text_y, text, ha='center', va='bottom')\n",
    "\n",
    "# read command-line arguments for number of frames and rolls per frame\n",
    "number_of_frames = 10000 # int(sys.argv[1])\n",
    "rolls_per_frame = 600 # int(sys.argv[2])\n",
    "\n",
    "sns.set_style('whitegrid') # white background with gray grid lines\n",
    "figure = plt.figure('Rolling a Six-Sided Die') # Figure for animation\n",
    "values = list(range(1,7)) # die faces for display on x-axis\n",
    "frequencies = [0] * 6 # six-element list of die frequencies\n",
    "\n",
    "# configure and start animation that calls function update\n",
    "die_animation = animation.FuncAnimation(\n",
    "    figure, update, repeat=False, frames=number_of_frames, interval=33,\n",
    "    fargs=(rolls_per_frame, values, frequencies)\n",
    ")\n",
    "\n",
    "plt.show() # display window"
   ]
  },
  {
   "cell_type": "markdown",
   "id": "ba1850e5-2a55-4bcb-b242-9a52d8050d42",
   "metadata": {},
   "source": [
    "#### FuncAnimation\n",
    "FuncAnimation has two required arguments & other optional arguments:\n",
    "1. figure ~ the Figure object in which to display the animation\n",
    "2. update ~ the function to call once per animation frame\n",
    "3. repeat ~ 'False' terminates the animation after the specified number of frames. If 'True' (default), when the animation completes it restarts from the beginning\n",
    "4. frames ~ the total number of animation frames, which controls how many times FuncAnimation calls update\n",
    "5. interval ~ the number of milliseconds (33, in this case) between animation frames. After each call to update, FuncAnimation waits 33 miliseconds before making the next call\n",
    "6. fargs ~ a tuple of other arguments to pass to the function specified in FuncAnimation's second argument. The arguments you specify in the fargs tuple correspond to update's parameters rolls, faces and frequencies"
   ]
  }
 ],
 "metadata": {
  "kernelspec": {
   "display_name": "Python [conda env:base] *",
   "language": "python",
   "name": "conda-base-py"
  },
  "language_info": {
   "codemirror_mode": {
    "name": "ipython",
    "version": 3
   },
   "file_extension": ".py",
   "mimetype": "text/x-python",
   "name": "python",
   "nbconvert_exporter": "python",
   "pygments_lexer": "ipython3",
   "version": "3.12.3"
  }
 },
 "nbformat": 4,
 "nbformat_minor": 5
}
