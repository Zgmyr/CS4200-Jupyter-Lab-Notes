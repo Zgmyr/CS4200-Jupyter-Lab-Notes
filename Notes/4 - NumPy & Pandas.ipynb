{
 "cells": [
  {
   "cell_type": "markdown",
   "id": "1671c1df-8e84-4ceb-b4e1-dc4acea13c67",
   "metadata": {},
   "source": [
    "# NumPy\n",
    "NumPy arrays more efficient to operate on than lists. We can create arrays with numpy.array(), which may be single or multidimensional arrays. These are built for homogenous numeric data."
   ]
  },
  {
   "cell_type": "markdown",
   "id": "cd9ad301-f20a-4822-899c-422207c6971e",
   "metadata": {},
   "source": [
    "## Creating & Iterating through Arrays"
   ]
  },
  {
   "cell_type": "markdown",
   "id": "b33ed4a4-3a5c-4705-88d3-8bce985bd88b",
   "metadata": {},
   "source": [
    "#### Declaring NumPy array"
   ]
  },
  {
   "cell_type": "code",
   "execution_count": 5,
   "id": "8e68653d-0329-4dfa-9eca-b884459a56b3",
   "metadata": {},
   "outputs": [
    {
     "data": {
      "text/plain": [
       "array([ 2,  3,  5,  7, 11])"
      ]
     },
     "execution_count": 5,
     "metadata": {},
     "output_type": "execute_result"
    }
   ],
   "source": [
    "import numpy as np\n",
    "numbers = np.array([2,3,5,7,11])\n",
    "numbers"
   ]
  },
  {
   "cell_type": "code",
   "execution_count": 7,
   "id": "6ffa5e4d-a929-475b-a467-ecba7db4e88c",
   "metadata": {},
   "outputs": [
    {
     "data": {
      "text/plain": [
       "numpy.ndarray"
      ]
     },
     "execution_count": 7,
     "metadata": {},
     "output_type": "execute_result"
    }
   ],
   "source": [
    "type(numbers)"
   ]
  },
  {
   "cell_type": "code",
   "execution_count": 11,
   "id": "6d2a2783-6398-4270-8626-af4b3e2dbb19",
   "metadata": {},
   "outputs": [
    {
     "data": {
      "text/plain": [
       "array([[1, 2, 3],\n",
       "       [4, 5, 6]])"
      ]
     },
     "execution_count": 11,
     "metadata": {},
     "output_type": "execute_result"
    }
   ],
   "source": [
    "np.array([[1,2,3],[4,5,6]])"
   ]
  },
  {
   "cell_type": "markdown",
   "id": "2fb0d89c-2013-4b4f-8a95-59d1171f39af",
   "metadata": {},
   "source": [
    "#### Array Dimensions\n",
    "Determine an np array's dimensions with:\n",
    "1. ndim (number of dimensions)\n",
    "2. shape (dimensions)\n",
    "3. size"
   ]
  },
  {
   "cell_type": "code",
   "execution_count": 27,
   "id": "173e4c90-8acd-46fd-b0dd-cbe83caa6d1d",
   "metadata": {},
   "outputs": [
    {
     "name": "stdout",
     "output_type": "stream",
     "text": [
      "2\n",
      "1\n",
      "(2, 3)\n",
      "(5,)\n",
      "6\n"
     ]
    }
   ],
   "source": [
    "integers = np.array([[1,2,3],[4,5,6]])\n",
    "floats = np.array([0.0,0.1,0.2,0.3,0.4])\n",
    "\n",
    "print(integers.ndim)\n",
    "print(floats.ndim)\n",
    "\n",
    "print(integers.shape)\n",
    "print(floats.shape)\n",
    "\n",
    "print(integers.size)"
   ]
  },
  {
   "cell_type": "markdown",
   "id": "9c517636-b7f4-48d7-9ac2-5a5239bbf50e",
   "metadata": {},
   "source": [
    "#### Iterating Through Arrays"
   ]
  },
  {
   "cell_type": "code",
   "execution_count": 30,
   "id": "e999f44b-870b-49ea-bb05-ffc8117a6ac0",
   "metadata": {},
   "outputs": [
    {
     "name": "stdout",
     "output_type": "stream",
     "text": [
      "1 2 3 \n",
      "4 5 6 \n"
     ]
    }
   ],
   "source": [
    "for row in integers:\n",
    "    for column in row:\n",
    "        print(column,end=' ')\n",
    "    print()"
   ]
  },
  {
   "cell_type": "code",
   "execution_count": 32,
   "id": "e2433242-e8dd-4157-8cdf-24242813c7ea",
   "metadata": {},
   "outputs": [
    {
     "name": "stdout",
     "output_type": "stream",
     "text": [
      "1 2 3 4 5 6 "
     ]
    }
   ],
   "source": [
    "for i in integers.flat:\n",
    "    print(i,end=' ')"
   ]
  },
  {
   "cell_type": "markdown",
   "id": "e64346bb-a77d-4df5-b0f6-fc710db3d940",
   "metadata": {},
   "source": [
    "#### Zeros, Ones & Full Arrays\n",
    "We can create pre-filled arrays full of zeros, ones, or a specified number"
   ]
  },
  {
   "cell_type": "code",
   "execution_count": 37,
   "id": "b42cb89a-3698-4f46-8959-284fdbb769eb",
   "metadata": {},
   "outputs": [
    {
     "name": "stdout",
     "output_type": "stream",
     "text": [
      "[0. 0. 0. 0. 0.]\n"
     ]
    }
   ],
   "source": [
    "print(np.zeros(5))"
   ]
  },
  {
   "cell_type": "code",
   "execution_count": 41,
   "id": "6bd695b4-4f72-4f1b-ac53-0df4b60cb041",
   "metadata": {},
   "outputs": [
    {
     "name": "stdout",
     "output_type": "stream",
     "text": [
      "[[1 1 1 1]\n",
      " [1 1 1 1]]\n"
     ]
    }
   ],
   "source": [
    "print(np.ones((2,4),dtype=int))"
   ]
  },
  {
   "cell_type": "code",
   "execution_count": 43,
   "id": "fb1be67b-d3a6-4b59-ad56-a30ccfc0ee28",
   "metadata": {},
   "outputs": [
    {
     "name": "stdout",
     "output_type": "stream",
     "text": [
      "[[13 13 13 13 13]\n",
      " [13 13 13 13 13]\n",
      " [13 13 13 13 13]]\n"
     ]
    }
   ],
   "source": [
    "print(np.full((3,5),13))"
   ]
  },
  {
   "cell_type": "markdown",
   "id": "1eb1e67d-5aa6-44fc-97f1-dd833a9515ee",
   "metadata": {},
   "source": [
    "#### Creating Integer & Float Ranges"
   ]
  },
  {
   "cell_type": "code",
   "execution_count": 54,
   "id": "1adc904c-9f5a-41e6-9c3d-120840979fc9",
   "metadata": {},
   "outputs": [
    {
     "data": {
      "text/plain": [
       "array([0, 1, 2, 3, 4])"
      ]
     },
     "execution_count": 54,
     "metadata": {},
     "output_type": "execute_result"
    }
   ],
   "source": [
    "# arange(range)\n",
    "np.arange(5)"
   ]
  },
  {
   "cell_type": "code",
   "execution_count": 56,
   "id": "92188229-f012-42ca-ac29-56636f9cca12",
   "metadata": {},
   "outputs": [
    {
     "data": {
      "text/plain": [
       "array([5, 6, 7, 8, 9])"
      ]
     },
     "execution_count": 56,
     "metadata": {},
     "output_type": "execute_result"
    }
   ],
   "source": [
    "# arange(begin,end)\n",
    "np.arange(5,10)"
   ]
  },
  {
   "cell_type": "code",
   "execution_count": 59,
   "id": "d7c17eec-f655-4d22-a2d3-9e2a8fd619ea",
   "metadata": {},
   "outputs": [
    {
     "data": {
      "text/plain": [
       "array([0.  , 0.25, 0.5 , 0.75, 1.  ])"
      ]
     },
     "execution_count": 59,
     "metadata": {},
     "output_type": "execute_result"
    }
   ],
   "source": [
    "# linspace(begin,end,number of increments)\n",
    "np.linspace(0,1,5)"
   ]
  },
  {
   "cell_type": "code",
   "execution_count": 71,
   "id": "2bccaae3-d93c-43be-a43a-0461d59da403",
   "metadata": {},
   "outputs": [
    {
     "data": {
      "text/plain": [
       "array([[ 1,  2,  3,  4,  5],\n",
       "       [ 6,  7,  8,  9, 10],\n",
       "       [11, 12, 13, 14, 15],\n",
       "       [16, 17, 18, 19, 20]])"
      ]
     },
     "execution_count": 71,
     "metadata": {},
     "output_type": "execute_result"
    }
   ],
   "source": [
    "# reshape(rows,columns)\n",
    "np.arange(1,21).reshape(4,5)"
   ]
  },
  {
   "cell_type": "markdown",
   "id": "12fd532b-8b23-4906-a0d1-c67e1bb86bfd",
   "metadata": {},
   "source": [
    "## Working with Arrays"
   ]
  },
  {
   "cell_type": "markdown",
   "id": "2891fda4-c278-445a-b6a2-bd6ddc1c68ec",
   "metadata": {},
   "source": [
    "#### Arithmetic Operations with Arrays"
   ]
  },
  {
   "cell_type": "code",
   "execution_count": 82,
   "id": "9b02073a-91f2-405f-a4dc-59add8bc5a38",
   "metadata": {},
   "outputs": [
    {
     "name": "stdout",
     "output_type": "stream",
     "text": [
      "[ 2  4  6  8 10]\n",
      "[  1   8  27  64 125]\n"
     ]
    }
   ],
   "source": [
    "numbers = np.array([1,2,3,4,5])\n",
    "\n",
    "# Multiplication (element wise - scalar)\n",
    "print(numbers * 2)\n",
    "\n",
    "# Exponentiation (element wise - scalar)\n",
    "print(numbers ** 3)"
   ]
  },
  {
   "cell_type": "code",
   "execution_count": 86,
   "id": "82d9acf6-5f81-4528-8a1f-adb54066648f",
   "metadata": {},
   "outputs": [
    {
     "name": "stdout",
     "output_type": "stream",
     "text": [
      "[21 22 23 24 25]\n"
     ]
    }
   ],
   "source": [
    "# updating arrays with incremented vlaue\n",
    "numbers += 10\n",
    "print(numbers)"
   ]
  },
  {
   "cell_type": "code",
   "execution_count": 88,
   "id": "48dd7807-9a1d-4eb4-af28-bdaeda7ec739",
   "metadata": {},
   "outputs": [
    {
     "data": {
      "text/plain": [
       "array([ 42,  88, 115, 144, 175])"
      ]
     },
     "execution_count": 88,
     "metadata": {},
     "output_type": "execute_result"
    }
   ],
   "source": [
    "# Arithmetic Between Arrays\n",
    "numbers_2 = [2,4,5,6,7]\n",
    "numbers * numbers_2"
   ]
  },
  {
   "cell_type": "markdown",
   "id": "f939e972-cf11-44f3-a0bc-d705000dea76",
   "metadata": {},
   "source": [
    "#### Universal Functions\n",
    "Perform element-wise operations:\n",
    "1. MATH: add, subtract, multiply, divide, remainder, exp, log, sqrt, power\n",
    "2. TRIGONOMETRY: sin, cos, tan, hypot, arcsin, arccos, arctan\n",
    "3. COMPARISON: greater, greater_equal, less, less_equal, not_equal, logical_and, logical_or, logical_xor, logical_not, minimum, maximum"
   ]
  },
  {
   "cell_type": "code",
   "execution_count": 131,
   "id": "538e0802-323d-4c92-af07-b4e752bed666",
   "metadata": {},
   "outputs": [
    {
     "name": "stdout",
     "output_type": "stream",
     "text": [
      "[1. 2. 3. 4. 5. 6.]\n",
      "[11 24 39 56 75 96]\n",
      "[  10   80  270  640 1250 2160]\n"
     ]
    }
   ],
   "source": [
    "numbers = np.array([1,4,9,16,25,36])\n",
    "numbers_2 = np.arange(1,7) * 10\n",
    "\n",
    "# sqrt on arrays\n",
    "print(np.sqrt(numbers))\n",
    "\n",
    "# adding arrays - same as numbers + numbers_2\n",
    "print(np.add(numbers,numbers_2))\n",
    "\n",
    "# multiplying arrays - same as numbers * numbers_2\n",
    "print(np.multiply(numbers,numbers_2))"
   ]
  },
  {
   "cell_type": "markdown",
   "id": "de30194e-b616-465b-8962-1a300cc52946",
   "metadata": {},
   "source": [
    "#### Comparisons with Arrays"
   ]
  },
  {
   "cell_type": "code",
   "execution_count": 91,
   "id": "e156e865-1b9c-495d-bced-3d5d3b9ed776",
   "metadata": {},
   "outputs": [
    {
     "data": {
      "text/plain": [
       "array([False, False, False, False, False])"
      ]
     },
     "execution_count": 91,
     "metadata": {},
     "output_type": "execute_result"
    }
   ],
   "source": [
    "numbers == numbers_2"
   ]
  },
  {
   "cell_type": "code",
   "execution_count": 93,
   "id": "42fd001e-5047-4847-a476-2417e175b34a",
   "metadata": {},
   "outputs": [
    {
     "data": {
      "text/plain": [
       "array([ True,  True,  True,  True,  True])"
      ]
     },
     "execution_count": 93,
     "metadata": {},
     "output_type": "execute_result"
    }
   ],
   "source": [
    "numbers >= numbers_2"
   ]
  },
  {
   "cell_type": "code",
   "execution_count": 95,
   "id": "ab0c3f09-64bb-4994-a037-d981e336d4b5",
   "metadata": {},
   "outputs": [
    {
     "data": {
      "text/plain": [
       "array([ True,  True,  True,  True,  True])"
      ]
     },
     "execution_count": 95,
     "metadata": {},
     "output_type": "execute_result"
    }
   ],
   "source": [
    "numbers != numbers_2"
   ]
  },
  {
   "cell_type": "code",
   "execution_count": 97,
   "id": "4c3d83cd-0589-48ec-a3dd-f68623bc54ad",
   "metadata": {},
   "outputs": [
    {
     "data": {
      "text/plain": [
       "array([False, False, False, False, False])"
      ]
     },
     "execution_count": 97,
     "metadata": {},
     "output_type": "execute_result"
    }
   ],
   "source": [
    "numbers < numbers_2"
   ]
  },
  {
   "cell_type": "markdown",
   "id": "bcb1260d-a5c8-423d-9025-ac1ad8399dd2",
   "metadata": {},
   "source": [
    "#### NumPy Array Calculations"
   ]
  },
  {
   "cell_type": "code",
   "execution_count": 7,
   "id": "4f0a4e09-bdc7-45a0-a3e2-8a243f9e014f",
   "metadata": {},
   "outputs": [
    {
     "name": "stdout",
     "output_type": "stream",
     "text": [
      "411\n",
      "50\n",
      "100\n",
      "82.2\n",
      "16.975276139138355\n",
      "288.15999999999997\n"
     ]
    }
   ],
   "source": [
    "grades = np.array([50,84,90,100,87])\n",
    "\n",
    "# sum\n",
    "print(grades.sum())\n",
    "\n",
    "# min\n",
    "print(grades.min())\n",
    "\n",
    "# max\n",
    "print(grades.max())\n",
    "\n",
    "# mean\n",
    "print(grades.mean())\n",
    "\n",
    "# std\n",
    "print(grades.std())\n",
    "\n",
    "# variance\n",
    "print(grades.var())"
   ]
  },
  {
   "cell_type": "code",
   "execution_count": 135,
   "id": "be8a2ba0-7ac4-41f6-8870-396ec65a0566",
   "metadata": {},
   "outputs": [
    {
     "name": "stdout",
     "output_type": "stream",
     "text": [
      "[95.25 85.25 83.  ]\n",
      "[84.33333333 92.33333333 87.         87.66666667]\n"
     ]
    }
   ],
   "source": [
    "# axis = 0 ~ performs calculation on all row values for each COLUMN\n",
    "# axis = 1 ~ performs calculation on all column values for each ROW\n",
    "\n",
    "grades = np.array([[87,96,70],\n",
    "                  [100,87,90],\n",
    "                  [94,77,90],\n",
    "                  [100,81,82]])\n",
    "\n",
    "# by column\n",
    "print(grades.mean(axis=0))\n",
    "\n",
    "# by row\n",
    "print(grades.mean(axis=1))"
   ]
  },
  {
   "cell_type": "markdown",
   "id": "bc4680ec-8139-4401-a41c-bbd10c4ad758",
   "metadata": {},
   "source": [
    "#### Array Slicing"
   ]
  },
  {
   "cell_type": "code",
   "execution_count": 155,
   "id": "d943c9dc-52aa-4bf8-86ff-f33e7b2b255f",
   "metadata": {},
   "outputs": [
    {
     "name": "stdout",
     "output_type": "stream",
     "text": [
      "[100  87  90]\n",
      "\n",
      "[[ 87  96  70]\n",
      " [100  87  90]]\n",
      "\n",
      "[[100  87  90]\n",
      " [100  81  82]]\n",
      "\n",
      "[ 87 100  94 100]\n",
      "\n"
     ]
    }
   ],
   "source": [
    "grades = np.array([[87,96,70],\n",
    "                  [100,87,90],\n",
    "                  [94,77,90],\n",
    "                  [100,81,82]])\n",
    "\n",
    "# array[row, column]\n",
    "\n",
    "# selecting a row\n",
    "print(grades[1],end='\\n\\n')\n",
    "\n",
    "# slicing rows\n",
    "print(grades[0:2],end='\\n\\n')\n",
    "\n",
    "# selecting two comma-separated rows\n",
    "print(grades[[1,3]],end='\\n\\n')\n",
    "\n",
    "# slicing a row\n",
    "print(grades[:,0],end='\\n\\n')"
   ]
  },
  {
   "cell_type": "markdown",
   "id": "9f855fb9-e2c8-489e-92e6-47c6664f6cb3",
   "metadata": {},
   "source": [
    "#### Views (Shallow Copies)\n",
    "Views act kind of like pointers (C++) in that they \"see\" data in other objects rather than having their own copies of the data. Two separate arrays, but they share the same data.\n",
    "- changes made to one DOES affect the other"
   ]
  },
  {
   "cell_type": "code",
   "execution_count": 177,
   "id": "908081a5-f5c9-457e-a4ec-47967afd4c17",
   "metadata": {},
   "outputs": [
    {
     "name": "stdout",
     "output_type": "stream",
     "text": [
      "[ 10  40  90 160 250 360]\n",
      "[ 10  40  90 160 250 360]\n",
      "2377961062544\n",
      "2377961062448\n"
     ]
    }
   ],
   "source": [
    "numbers = np.array([1,4,9,16,25,36])\n",
    "\n",
    "numbers_2 = numbers.view()\n",
    "\n",
    "numbers *= 10\n",
    "\n",
    "print(numbers)\n",
    "print(numbers_2)\n",
    "\n",
    "print(id(numbers))\n",
    "print(id(numbers_2))"
   ]
  },
  {
   "cell_type": "markdown",
   "id": "c73aab61-c953-4a92-a37f-aae0a2a2420e",
   "metadata": {},
   "source": [
    "#### Deep Copies\n",
    "Deep copies store data independently between two arrays.\n",
    "- changes made to one does NOT affect the other"
   ]
  },
  {
   "cell_type": "code",
   "execution_count": 175,
   "id": "a2614300-3eac-467f-b4e8-65919236bbe7",
   "metadata": {},
   "outputs": [
    {
     "name": "stdout",
     "output_type": "stream",
     "text": [
      "[ 10  40  90 160 250 360]\n",
      "[ 1  4  9 16 25 36]\n"
     ]
    }
   ],
   "source": [
    "numbers = np.array([1,4,9,16,25,36])\n",
    "\n",
    "numbers_2 = numbers.copy()\n",
    "\n",
    "numbers *= 10\n",
    "\n",
    "print(numbers)\n",
    "print(numbers_2)"
   ]
  },
  {
   "cell_type": "markdown",
   "id": "7e0a8690-bf96-4076-b9ad-25f8cf5674f0",
   "metadata": {},
   "source": [
    "#### Transpose"
   ]
  },
  {
   "cell_type": "code",
   "execution_count": 181,
   "id": "a40e4c22-d6ae-4489-945a-c9c6e255de9c",
   "metadata": {},
   "outputs": [
    {
     "name": "stdout",
     "output_type": "stream",
     "text": [
      "[[ 87 100  94 100]\n",
      " [ 96  87  77  81]\n",
      " [ 70  90  90  82]]\n"
     ]
    }
   ],
   "source": [
    "# transpose with .T\n",
    "grades = np.array([[87,96,70],\n",
    "                  [100,87,90],\n",
    "                  [94,77,90],\n",
    "                  [100,81,82]])\n",
    "\n",
    "print(grades.T)"
   ]
  },
  {
   "cell_type": "markdown",
   "id": "b83a9431-02bd-4dfe-91d0-346e6aa72a77",
   "metadata": {},
   "source": [
    "#### Horizontal / Vertical Stacking"
   ]
  },
  {
   "cell_type": "code",
   "execution_count": 184,
   "id": "bc8ceecc-b3b4-4d33-8fa4-7b1e713f1ce4",
   "metadata": {},
   "outputs": [],
   "source": [
    "grades = np.array([[100,96,70],\n",
    "                 [100,87,90]])\n",
    "\n",
    "grades2 = np.array([[94,77,90],\n",
    "                    [100,81,82]])"
   ]
  },
  {
   "cell_type": "code",
   "execution_count": 186,
   "id": "fdce9b55-4c4a-4d82-9e0f-df18faf6d3aa",
   "metadata": {},
   "outputs": [
    {
     "data": {
      "text/plain": [
       "array([[100,  96,  70,  94,  77,  90],\n",
       "       [100,  87,  90, 100,  81,  82]])"
      ]
     },
     "execution_count": 186,
     "metadata": {},
     "output_type": "execute_result"
    }
   ],
   "source": [
    "# Horizontal Stacking\n",
    "np.hstack((grades,grades2))"
   ]
  },
  {
   "cell_type": "code",
   "execution_count": 190,
   "id": "0c09fb25-be1a-4f0f-badc-a04681eefd9a",
   "metadata": {},
   "outputs": [
    {
     "data": {
      "text/plain": [
       "array([[100,  96,  70],\n",
       "       [100,  87,  90],\n",
       "       [ 94,  77,  90],\n",
       "       [100,  81,  82]])"
      ]
     },
     "execution_count": 190,
     "metadata": {},
     "output_type": "execute_result"
    }
   ],
   "source": [
    "# Vertical Stacking\n",
    "np.vstack((grades,grades2))"
   ]
  },
  {
   "cell_type": "markdown",
   "id": "ae6777e6-8564-41cb-a0de-1eb8ba5c9d78",
   "metadata": {},
   "source": [
    "# Pandas\n",
    "Unlike NumPy, Pandas built for mixed data types, customized indexing, missing data, data that's not structured consistently, etc."
   ]
  },
  {
   "cell_type": "markdown",
   "id": "68d0de08-7501-4bdf-a7b6-f9f6546d9333",
   "metadata": {},
   "source": [
    "## Series"
   ]
  },
  {
   "cell_type": "markdown",
   "id": "1842ba87-358f-4b90-b080-6f6326806390",
   "metadata": {},
   "source": [
    "#### Creating a Series"
   ]
  },
  {
   "cell_type": "code",
   "execution_count": 11,
   "id": "eb2a8f11-1128-4a6d-b956-301fc975a6a0",
   "metadata": {},
   "outputs": [
    {
     "data": {
      "text/plain": [
       "0     87\n",
       "1    100\n",
       "2     94\n",
       "dtype: int64"
      ]
     },
     "execution_count": 11,
     "metadata": {},
     "output_type": "execute_result"
    }
   ],
   "source": [
    "import pandas as pd\n",
    "\n",
    "grades = pd.Series([87,100,94])\n",
    "grades"
   ]
  },
  {
   "cell_type": "markdown",
   "id": "7bfd277f-8bc0-4da5-aadf-8751d1afafb6",
   "metadata": {},
   "source": [
    "#### Creating a Series with Custom Indices\n",
    "Dictionary-style declarations"
   ]
  },
  {
   "cell_type": "code",
   "execution_count": 13,
   "id": "b4c8f406-0ba8-4c88-9c97-b6ca680ae3c1",
   "metadata": {},
   "outputs": [
    {
     "name": "stdout",
     "output_type": "stream",
     "text": [
      "Wally     87\n",
      "Eva      100\n",
      "Sam       94\n",
      "dtype: int64\n",
      "\n",
      "Wally     87\n",
      "Eva      100\n",
      "Sam       94\n",
      "dtype: int64\n"
     ]
    }
   ],
   "source": [
    "grades = pd.Series([87,100,94],index=['Wally','Eva','Sam'])\n",
    "print(grades,end='\\n\\n')\n",
    "\n",
    "grades = pd.Series({'Wally':87, 'Eva':100, 'Sam':94})\n",
    "print(grades)"
   ]
  },
  {
   "cell_type": "markdown",
   "id": "6879055d-87b5-47a7-b1bc-1f4cda937126",
   "metadata": {},
   "source": [
    "#### Indexing Series with Custom Indices"
   ]
  },
  {
   "cell_type": "code",
   "execution_count": 251,
   "id": "85dfee8d-0a8e-4308-aa80-54daffd1ce1b",
   "metadata": {},
   "outputs": [
    {
     "data": {
      "text/plain": [
       "100"
      ]
     },
     "execution_count": 251,
     "metadata": {},
     "output_type": "execute_result"
    }
   ],
   "source": [
    "grades['Eva']"
   ]
  },
  {
   "cell_type": "markdown",
   "id": "3efdfda1-db54-493e-a233-93af3a4ec607",
   "metadata": {},
   "source": [
    "#### Series of Strings"
   ]
  },
  {
   "cell_type": "code",
   "execution_count": 15,
   "id": "cb87526e-a1c4-4aaf-ba4b-9b43fe01787d",
   "metadata": {},
   "outputs": [
    {
     "name": "stdout",
     "output_type": "stream",
     "text": [
      "0     True\n",
      "1     True\n",
      "2    False\n",
      "dtype: bool\n",
      "\n",
      "0    HAMMER\n",
      "1       SAW\n",
      "2    WRENCH\n",
      "dtype: object\n"
     ]
    }
   ],
   "source": [
    "hardware = pd.Series(['Hammer', 'Saw', 'Wrench'])\n",
    "\n",
    "# contains function\n",
    "print(hardware.str.contains('a'),end='\\n\\n')\n",
    "\n",
    "# upper function\n",
    "print(hardware.str.upper())"
   ]
  },
  {
   "cell_type": "markdown",
   "id": "d9598f47-83a7-4895-b612-b90759708e44",
   "metadata": {},
   "source": [
    "#### Using Series for Descriptive Statistics"
   ]
  },
  {
   "cell_type": "code",
   "execution_count": 235,
   "id": "cb5b4aff-719c-4b36-84eb-2d563989bdb2",
   "metadata": {},
   "outputs": [
    {
     "data": {
      "text/plain": [
       "3"
      ]
     },
     "execution_count": 235,
     "metadata": {},
     "output_type": "execute_result"
    }
   ],
   "source": [
    "grades = pd.Series([87,100,94])\n",
    "\n",
    "# length of series (count)\n",
    "grades.count()"
   ]
  },
  {
   "cell_type": "code",
   "execution_count": 220,
   "id": "601b1016-e21d-4e76-a30a-23f5220e886e",
   "metadata": {},
   "outputs": [
    {
     "data": {
      "text/plain": [
       "93.66666666666667"
      ]
     },
     "execution_count": 220,
     "metadata": {},
     "output_type": "execute_result"
    }
   ],
   "source": [
    "# mean\n",
    "grades.mean()"
   ]
  },
  {
   "cell_type": "code",
   "execution_count": 222,
   "id": "2d841dbb-edab-4d58-ba1c-5e25d4543d4c",
   "metadata": {},
   "outputs": [
    {
     "data": {
      "text/plain": [
       "87"
      ]
     },
     "execution_count": 222,
     "metadata": {},
     "output_type": "execute_result"
    }
   ],
   "source": [
    "# min\n",
    "grades.min()"
   ]
  },
  {
   "cell_type": "code",
   "execution_count": 224,
   "id": "c30e791f-d9e0-46c7-ae77-a1fb6bde7006",
   "metadata": {},
   "outputs": [
    {
     "data": {
      "text/plain": [
       "100"
      ]
     },
     "execution_count": 224,
     "metadata": {},
     "output_type": "execute_result"
    }
   ],
   "source": [
    "# max\n",
    "grades.max()"
   ]
  },
  {
   "cell_type": "code",
   "execution_count": 226,
   "id": "c7a33e7b-3768-4aaa-b27e-12471b5bd5be",
   "metadata": {},
   "outputs": [
    {
     "data": {
      "text/plain": [
       "6.506407098647712"
      ]
     },
     "execution_count": 226,
     "metadata": {},
     "output_type": "execute_result"
    }
   ],
   "source": [
    "# standard deviation\n",
    "grades.std()"
   ]
  },
  {
   "cell_type": "code",
   "execution_count": 228,
   "id": "23ed4d70-6843-4263-ae18-bb9ef83b5e95",
   "metadata": {},
   "outputs": [
    {
     "data": {
      "text/plain": [
       "42.333333333333336"
      ]
     },
     "execution_count": 228,
     "metadata": {},
     "output_type": "execute_result"
    }
   ],
   "source": [
    "# variance\n",
    "grades.var()"
   ]
  },
  {
   "cell_type": "code",
   "execution_count": 230,
   "id": "dfae2aed-bbf5-4799-89f9-918f9eb227ac",
   "metadata": {},
   "outputs": [
    {
     "data": {
      "text/plain": [
       "count      3.000000\n",
       "mean      93.666667\n",
       "std        6.506407\n",
       "min       87.000000\n",
       "25%       90.500000\n",
       "50%       94.000000\n",
       "75%       97.000000\n",
       "max      100.000000\n",
       "dtype: float64"
      ]
     },
     "execution_count": 230,
     "metadata": {},
     "output_type": "execute_result"
    }
   ],
   "source": [
    "# all of these:\n",
    "grades.describe()"
   ]
  },
  {
   "cell_type": "markdown",
   "id": "9352e202-b7ab-4615-889d-da10c7b2a88a",
   "metadata": {},
   "source": [
    "## Data Frames\n",
    "Can be used for multidimensional arrays"
   ]
  },
  {
   "cell_type": "markdown",
   "id": "fe24a3c0-99a2-4ee6-9698-bb122aad6027",
   "metadata": {},
   "source": [
    "#### Creating a DataFrame from a Dictionary"
   ]
  },
  {
   "cell_type": "code",
   "execution_count": 280,
   "id": "a774546f-7ba0-44c4-98c3-f1b999b75060",
   "metadata": {},
   "outputs": [
    {
     "name": "stdout",
     "output_type": "stream",
     "text": [
      "   Wally  Eva  Sam  Katie  Bob\n",
      "0     87  100   94    100   83\n",
      "1     96   87   77     81   65\n",
      "2     70   90   90     82   85\n"
     ]
    }
   ],
   "source": [
    "grades_dict = {'Wally':[87,96,70], 'Eva':[100,87,90],\n",
    "               'Sam':[94,77,90], 'Katie':[100,81,82],\n",
    "               'Bob':[83,65,85]}\n",
    "\n",
    "# creating DataFrame\n",
    "grades = pd.DataFrame(grades_dict)\n",
    "\n",
    "print(grades)"
   ]
  },
  {
   "cell_type": "code",
   "execution_count": 285,
   "id": "6497d51b-0e55-4f7a-8ec9-7eb4122325aa",
   "metadata": {},
   "outputs": [
    {
     "name": "stdout",
     "output_type": "stream",
     "text": [
      "       Wally  Eva  Sam  Katie  Bob\n",
      "Test1     87  100   94    100   83\n",
      "Test2     96   87   77     81   65\n",
      "Test3     70   90   90     82   85\n"
     ]
    }
   ],
   "source": [
    "# customizing indices with index attribute\n",
    "grades.index = ['Test1','Test2','Test3']\n",
    "\n",
    "print(grades)"
   ]
  },
  {
   "cell_type": "markdown",
   "id": "391297e7-5ac4-4c34-ae32-69cb2f418896",
   "metadata": {},
   "source": [
    "#### Accessing a DataFrame's Columns"
   ]
  },
  {
   "cell_type": "code",
   "execution_count": 289,
   "id": "f4883336-1c56-4f74-bad9-4ea715bcebe8",
   "metadata": {},
   "outputs": [
    {
     "name": "stdout",
     "output_type": "stream",
     "text": [
      "Test1    100\n",
      "Test2     87\n",
      "Test3     90\n",
      "Name: Eva, dtype: int64\n",
      "\n",
      "Test1    94\n",
      "Test2    77\n",
      "Test3    90\n",
      "Name: Sam, dtype: int64\n"
     ]
    }
   ],
   "source": [
    "print(grades['Eva'],end='\\n\\n')\n",
    "print(grades['Sam'])"
   ]
  },
  {
   "cell_type": "markdown",
   "id": "0266b359-ff50-4f9a-9abc-3e23a5798d31",
   "metadata": {},
   "source": [
    "#### Selecting Rows with loc & iloc Attributes"
   ]
  },
  {
   "cell_type": "code",
   "execution_count": 294,
   "id": "58910db3-e1c3-401c-a487-0f6dee1bf692",
   "metadata": {},
   "outputs": [
    {
     "name": "stdout",
     "output_type": "stream",
     "text": [
      "Wally     87\n",
      "Eva      100\n",
      "Sam       94\n",
      "Katie    100\n",
      "Bob       83\n",
      "Name: Test1, dtype: int64\n",
      "\n",
      "Wally    96\n",
      "Eva      87\n",
      "Sam      77\n",
      "Katie    81\n",
      "Bob      65\n",
      "Name: Test2, dtype: int64\n"
     ]
    }
   ],
   "source": [
    "# select a row based on index label\n",
    "print(grades.loc['Test1'],end='\\n\\n')\n",
    "\n",
    "# select a row based on an index number\n",
    "print(grades.iloc[1])"
   ]
  },
  {
   "cell_type": "markdown",
   "id": "fa8aa77a-35dd-469e-bb8e-2258126a2a0f",
   "metadata": {},
   "source": [
    "#### Slicing & Boolean Indexing"
   ]
  },
  {
   "cell_type": "code",
   "execution_count": 298,
   "id": "bf8e533c-1d94-47ba-ad77-59d7410be500",
   "metadata": {},
   "outputs": [
    {
     "name": "stdout",
     "output_type": "stream",
     "text": [
      "       Wally  Eva  Sam  Katie  Bob\n",
      "Test1     87  100   94    100   83\n",
      "Test2     96   87   77     81   65\n",
      "       Eva  Katie\n",
      "Test1  100    100\n",
      "Test2   87     81\n"
     ]
    }
   ],
   "source": [
    "# slice rows using loc & iloc\n",
    "print(grades.loc['Test1':'Test2'])\n",
    "\n",
    "# subsets of rows & columns\n",
    "print(grades.loc['Test1':'Test2', ['Eva','Katie']])"
   ]
  },
  {
   "cell_type": "code",
   "execution_count": 305,
   "id": "2fd03d18-d806-4ec8-b31e-fdb3e6fb1c2b",
   "metadata": {},
   "outputs": [
    {
     "name": "stdout",
     "output_type": "stream",
     "text": [
      "       Wally    Eva   Sam  Katie  Bob\n",
      "Test1    NaN  100.0  94.0  100.0  NaN\n",
      "Test2   96.0    NaN   NaN    NaN  NaN\n",
      "Test3    NaN   90.0  90.0    NaN  NaN\n",
      "\n",
      "       Wally   Eva  Sam  Katie   Bob\n",
      "Test1   87.0   NaN  NaN    NaN  83.0\n",
      "Test2    NaN  87.0  NaN   81.0   NaN\n",
      "Test3    NaN   NaN  NaN   82.0  85.0\n"
     ]
    }
   ],
   "source": [
    "# boolean indexing\n",
    "print(grades[grades >= 90],end='\\n\\n')\n",
    "print(grades[(grades >= 80) & (grades < 90)])"
   ]
  },
  {
   "cell_type": "code",
   "execution_count": 309,
   "id": "5b4a19d8-fea5-44e5-aad4-b2044dcf1bef",
   "metadata": {},
   "outputs": [
    {
     "name": "stdout",
     "output_type": "stream",
     "text": [
      "87\n",
      "\n",
      "77\n"
     ]
    }
   ],
   "source": [
    "# specific row & column using labels \n",
    "print(grades.at['Test2','Eva'],end='\\n\\n')\n",
    "\n",
    "# specifc row & column using integer indices\n",
    "print(grades.iat[1,2])"
   ]
  },
  {
   "cell_type": "markdown",
   "id": "09de6a17-5d63-43df-acda-91492f0fe3f1",
   "metadata": {},
   "source": [
    "#### Using DataFrames for Descriptive Statistics"
   ]
  },
  {
   "cell_type": "code",
   "execution_count": 312,
   "id": "5c453cc4-ed33-489e-8a0c-8f4eb4667f5f",
   "metadata": {},
   "outputs": [
    {
     "data": {
      "text/html": [
       "<div>\n",
       "<style scoped>\n",
       "    .dataframe tbody tr th:only-of-type {\n",
       "        vertical-align: middle;\n",
       "    }\n",
       "\n",
       "    .dataframe tbody tr th {\n",
       "        vertical-align: top;\n",
       "    }\n",
       "\n",
       "    .dataframe thead th {\n",
       "        text-align: right;\n",
       "    }\n",
       "</style>\n",
       "<table border=\"1\" class=\"dataframe\">\n",
       "  <thead>\n",
       "    <tr style=\"text-align: right;\">\n",
       "      <th></th>\n",
       "      <th>Wally</th>\n",
       "      <th>Eva</th>\n",
       "      <th>Sam</th>\n",
       "      <th>Katie</th>\n",
       "      <th>Bob</th>\n",
       "    </tr>\n",
       "  </thead>\n",
       "  <tbody>\n",
       "    <tr>\n",
       "      <th>count</th>\n",
       "      <td>3.000000</td>\n",
       "      <td>3.000000</td>\n",
       "      <td>3.000000</td>\n",
       "      <td>3.000000</td>\n",
       "      <td>3.000000</td>\n",
       "    </tr>\n",
       "    <tr>\n",
       "      <th>mean</th>\n",
       "      <td>84.333333</td>\n",
       "      <td>92.333333</td>\n",
       "      <td>87.000000</td>\n",
       "      <td>87.666667</td>\n",
       "      <td>77.666667</td>\n",
       "    </tr>\n",
       "    <tr>\n",
       "      <th>std</th>\n",
       "      <td>13.203535</td>\n",
       "      <td>6.806859</td>\n",
       "      <td>8.888194</td>\n",
       "      <td>10.692677</td>\n",
       "      <td>11.015141</td>\n",
       "    </tr>\n",
       "    <tr>\n",
       "      <th>min</th>\n",
       "      <td>70.000000</td>\n",
       "      <td>87.000000</td>\n",
       "      <td>77.000000</td>\n",
       "      <td>81.000000</td>\n",
       "      <td>65.000000</td>\n",
       "    </tr>\n",
       "    <tr>\n",
       "      <th>25%</th>\n",
       "      <td>78.500000</td>\n",
       "      <td>88.500000</td>\n",
       "      <td>83.500000</td>\n",
       "      <td>81.500000</td>\n",
       "      <td>74.000000</td>\n",
       "    </tr>\n",
       "    <tr>\n",
       "      <th>50%</th>\n",
       "      <td>87.000000</td>\n",
       "      <td>90.000000</td>\n",
       "      <td>90.000000</td>\n",
       "      <td>82.000000</td>\n",
       "      <td>83.000000</td>\n",
       "    </tr>\n",
       "    <tr>\n",
       "      <th>75%</th>\n",
       "      <td>91.500000</td>\n",
       "      <td>95.000000</td>\n",
       "      <td>92.000000</td>\n",
       "      <td>91.000000</td>\n",
       "      <td>84.000000</td>\n",
       "    </tr>\n",
       "    <tr>\n",
       "      <th>max</th>\n",
       "      <td>96.000000</td>\n",
       "      <td>100.000000</td>\n",
       "      <td>94.000000</td>\n",
       "      <td>100.000000</td>\n",
       "      <td>85.000000</td>\n",
       "    </tr>\n",
       "  </tbody>\n",
       "</table>\n",
       "</div>"
      ],
      "text/plain": [
       "           Wally         Eva        Sam       Katie        Bob\n",
       "count   3.000000    3.000000   3.000000    3.000000   3.000000\n",
       "mean   84.333333   92.333333  87.000000   87.666667  77.666667\n",
       "std    13.203535    6.806859   8.888194   10.692677  11.015141\n",
       "min    70.000000   87.000000  77.000000   81.000000  65.000000\n",
       "25%    78.500000   88.500000  83.500000   81.500000  74.000000\n",
       "50%    87.000000   90.000000  90.000000   82.000000  83.000000\n",
       "75%    91.500000   95.000000  92.000000   91.000000  84.000000\n",
       "max    96.000000  100.000000  94.000000  100.000000  85.000000"
      ]
     },
     "execution_count": 312,
     "metadata": {},
     "output_type": "execute_result"
    }
   ],
   "source": [
    "grades.describe()"
   ]
  },
  {
   "cell_type": "markdown",
   "id": "52da31d4-f538-4db6-b327-11ffdc2d7618",
   "metadata": {},
   "source": [
    "#### Transpose of a DataFrame"
   ]
  },
  {
   "cell_type": "code",
   "execution_count": 315,
   "id": "bb03f8f2-890c-4b52-86cd-7d85c1b07ec5",
   "metadata": {},
   "outputs": [
    {
     "data": {
      "text/html": [
       "<div>\n",
       "<style scoped>\n",
       "    .dataframe tbody tr th:only-of-type {\n",
       "        vertical-align: middle;\n",
       "    }\n",
       "\n",
       "    .dataframe tbody tr th {\n",
       "        vertical-align: top;\n",
       "    }\n",
       "\n",
       "    .dataframe thead th {\n",
       "        text-align: right;\n",
       "    }\n",
       "</style>\n",
       "<table border=\"1\" class=\"dataframe\">\n",
       "  <thead>\n",
       "    <tr style=\"text-align: right;\">\n",
       "      <th></th>\n",
       "      <th>Test1</th>\n",
       "      <th>Test2</th>\n",
       "      <th>Test3</th>\n",
       "    </tr>\n",
       "  </thead>\n",
       "  <tbody>\n",
       "    <tr>\n",
       "      <th>Wally</th>\n",
       "      <td>87</td>\n",
       "      <td>96</td>\n",
       "      <td>70</td>\n",
       "    </tr>\n",
       "    <tr>\n",
       "      <th>Eva</th>\n",
       "      <td>100</td>\n",
       "      <td>87</td>\n",
       "      <td>90</td>\n",
       "    </tr>\n",
       "    <tr>\n",
       "      <th>Sam</th>\n",
       "      <td>94</td>\n",
       "      <td>77</td>\n",
       "      <td>90</td>\n",
       "    </tr>\n",
       "    <tr>\n",
       "      <th>Katie</th>\n",
       "      <td>100</td>\n",
       "      <td>81</td>\n",
       "      <td>82</td>\n",
       "    </tr>\n",
       "    <tr>\n",
       "      <th>Bob</th>\n",
       "      <td>83</td>\n",
       "      <td>65</td>\n",
       "      <td>85</td>\n",
       "    </tr>\n",
       "  </tbody>\n",
       "</table>\n",
       "</div>"
      ],
      "text/plain": [
       "       Test1  Test2  Test3\n",
       "Wally     87     96     70\n",
       "Eva      100     87     90\n",
       "Sam       94     77     90\n",
       "Katie    100     81     82\n",
       "Bob       83     65     85"
      ]
     },
     "execution_count": 315,
     "metadata": {},
     "output_type": "execute_result"
    }
   ],
   "source": [
    "grades.T"
   ]
  },
  {
   "cell_type": "code",
   "execution_count": 319,
   "id": "4b23c7be-060d-47d9-a242-2e85eaf6369f",
   "metadata": {},
   "outputs": [
    {
     "name": "stdout",
     "output_type": "stream",
     "text": [
      "Test1    92.8\n",
      "Test2    81.2\n",
      "Test3    83.4\n",
      "dtype: float64\n",
      "\n",
      "Test1    92.8\n",
      "Test2    81.2\n",
      "Test3    83.4\n",
      "dtype: float64\n"
     ]
    }
   ],
   "source": [
    "# NOTE: grades.T.mean() == grades.mean(axis=1)\n",
    "# axis = 0 ~ by columns\n",
    "# axis = 1 ~ by rows\n",
    "\n",
    "print(grades.T.mean(),end='\\n\\n')\n",
    "print(grades.mean(axis=1))"
   ]
  },
  {
   "cell_type": "markdown",
   "id": "36ea046a-37b9-4155-8ee4-148051075be7",
   "metadata": {},
   "source": [
    "#### Sorting Rows & Columns by Indices"
   ]
  },
  {
   "cell_type": "code",
   "execution_count": 324,
   "id": "8f616bc9-1b98-48d4-bb14-0212d9f79e65",
   "metadata": {},
   "outputs": [
    {
     "name": "stdout",
     "output_type": "stream",
     "text": [
      "       Wally  Eva  Sam  Katie  Bob\n",
      "Test3     70   90   90     82   85\n",
      "Test2     96   87   77     81   65\n",
      "Test1     87  100   94    100   83\n",
      "\n",
      "       Bob  Eva  Katie  Sam  Wally\n",
      "Test1   83  100    100   94     87\n",
      "Test2   65   87     81   77     96\n",
      "Test3   85   90     82   90     70\n"
     ]
    }
   ],
   "source": [
    "# sorting row by indices (descending)\n",
    "print(grades.sort_index(ascending=False),end='\\n\\n')\n",
    "\n",
    "# sorting column by indices (ascending alphabetically by label)\n",
    "print(grades.sort_index(axis=1))"
   ]
  },
  {
   "cell_type": "code",
   "execution_count": 326,
   "id": "ba14b4d0-37a5-498b-9bfd-656e8c3f82c6",
   "metadata": {},
   "outputs": [
    {
     "data": {
      "text/html": [
       "<div>\n",
       "<style scoped>\n",
       "    .dataframe tbody tr th:only-of-type {\n",
       "        vertical-align: middle;\n",
       "    }\n",
       "\n",
       "    .dataframe tbody tr th {\n",
       "        vertical-align: top;\n",
       "    }\n",
       "\n",
       "    .dataframe thead th {\n",
       "        text-align: right;\n",
       "    }\n",
       "</style>\n",
       "<table border=\"1\" class=\"dataframe\">\n",
       "  <thead>\n",
       "    <tr style=\"text-align: right;\">\n",
       "      <th></th>\n",
       "      <th>Eva</th>\n",
       "      <th>Katie</th>\n",
       "      <th>Sam</th>\n",
       "      <th>Wally</th>\n",
       "      <th>Bob</th>\n",
       "    </tr>\n",
       "  </thead>\n",
       "  <tbody>\n",
       "    <tr>\n",
       "      <th>Test1</th>\n",
       "      <td>100</td>\n",
       "      <td>100</td>\n",
       "      <td>94</td>\n",
       "      <td>87</td>\n",
       "      <td>83</td>\n",
       "    </tr>\n",
       "    <tr>\n",
       "      <th>Test2</th>\n",
       "      <td>87</td>\n",
       "      <td>81</td>\n",
       "      <td>77</td>\n",
       "      <td>96</td>\n",
       "      <td>65</td>\n",
       "    </tr>\n",
       "    <tr>\n",
       "      <th>Test3</th>\n",
       "      <td>90</td>\n",
       "      <td>82</td>\n",
       "      <td>90</td>\n",
       "      <td>70</td>\n",
       "      <td>85</td>\n",
       "    </tr>\n",
       "  </tbody>\n",
       "</table>\n",
       "</div>"
      ],
      "text/plain": [
       "       Eva  Katie  Sam  Wally  Bob\n",
       "Test1  100    100   94     87   83\n",
       "Test2   87     81   77     96   65\n",
       "Test3   90     82   90     70   85"
      ]
     },
     "execution_count": 326,
     "metadata": {},
     "output_type": "execute_result"
    }
   ],
   "source": [
    "# sorting by column values (instead of label)\n",
    "grades.sort_values(by='Test1',axis=1,ascending=False)\n",
    "\n",
    "# if we do not specify 'by' then sorting is done by label\n",
    "# axis (0 by column, 1 by row) must match the 'by'"
   ]
  }
 ],
 "metadata": {
  "kernelspec": {
   "display_name": "Python [conda env:base] *",
   "language": "python",
   "name": "conda-base-py"
  },
  "language_info": {
   "codemirror_mode": {
    "name": "ipython",
    "version": 3
   },
   "file_extension": ".py",
   "mimetype": "text/x-python",
   "name": "python",
   "nbconvert_exporter": "python",
   "pygments_lexer": "ipython3",
   "version": "3.12.3"
  }
 },
 "nbformat": 4,
 "nbformat_minor": 5
}
