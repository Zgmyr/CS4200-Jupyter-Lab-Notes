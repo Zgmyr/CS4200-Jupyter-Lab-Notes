{
 "cells": [
  {
   "cell_type": "markdown",
   "id": "defa0fa6-3f26-43dc-8101-e890230523bf",
   "metadata": {},
   "source": [
    "# Introduciton to Sequences"
   ]
  },
  {
   "cell_type": "markdown",
   "id": "c94e777a-823a-4adf-bcd8-6388bf108720",
   "metadata": {},
   "source": [
    "#### Lists\n",
    "Data structure that typically stores homogeneous data (same type) or heterogeneous data"
   ]
  },
  {
   "cell_type": "markdown",
   "id": "3205b521-34b3-4554-98f6-2baa84cd5342",
   "metadata": {},
   "source": [
    "add elements using append() method (e.g. list.append(4)) or '+=' (e.g. list1 += \"Hello World\" OR list1 += [4])\n",
    "\n",
    "NOTE: we can append lists to lists (interdimensional lists) & use the extend() method to add specified list elements to end of current list. (e.g. list1.extend(list2))\n",
    "\n",
    "NOTE: concatenate two lists iwth '+' operator (e.g. list1 + list2). This is similar to using append, but for a larger selection of elements."
   ]
  },
  {
   "cell_type": "code",
   "execution_count": 6,
   "id": "503f69f5-a864-41ac-84e4-84fcd67e70f0",
   "metadata": {},
   "outputs": [
    {
     "name": "stdout",
     "output_type": "stream",
     "text": [
      "0: 10\n",
      "1: 20\n",
      "2: 30\n",
      "3: 40\n",
      "4: 50\n",
      "5: 60\n"
     ]
    }
   ],
   "source": [
    "# accessing list elements by their indices:\n",
    "concat_list = [10,20,30,40,50,60]\n",
    "\n",
    "for i in range(len(concat_list)):\n",
    "    print(f'{i}: {concat_list[i]}')"
   ]
  },
  {
   "cell_type": "markdown",
   "id": "190273e5-02bb-43ab-bf79-6f7984681a57",
   "metadata": {},
   "source": [
    "when comparing lists, can compare for:\n",
    "\n",
    "a == b # corresponding elements are both equal & lists have same length\n",
    "\n",
    "a <> c # compares the individual elements of each corresponding list by value"
   ]
  },
  {
   "cell_type": "markdown",
   "id": "309a4983-4885-4565-88b2-117047f7613c",
   "metadata": {},
   "source": [
    "#### Tuples\n",
    "Tuples are ordered collections of elements separated by comma and enclosed by '()'. Typically\n",
    "they store heterogeneous data."
   ]
  },
  {
   "cell_type": "markdown",
   "id": "ef28b117-ca42-4c85-8fd5-aa12dad56ed7",
   "metadata": {},
   "source": [
    "tuples are immutable & number of elements & length cannot be changed"
   ]
  },
  {
   "cell_type": "code",
   "execution_count": 42,
   "id": "d6ef6867-bdd6-418a-b84a-db88b20de430",
   "metadata": {},
   "outputs": [
    {
     "name": "stdout",
     "output_type": "stream",
     "text": [
      "('John', 'Green', 3.3)\n",
      "('John', 'Green', 3.3, 'Mary', 'Scott', 3.5)\n"
     ]
    }
   ],
   "source": [
    "# example of a tuple\n",
    "test_tuple = 'John', 'Green', 3.3\n",
    "print(test_tuple)\n",
    "\n",
    "# here we are not \"modifying\" the original test_tuple, but overriding the memory\n",
    "#     location of the origianl with a new copy with the following additions\n",
    "test_tuple += 'Mary', 'Scott', 3.5\n",
    "print(test_tuple)"
   ]
  },
  {
   "cell_type": "markdown",
   "id": "e7e34608-4698-4160-89fe-d8bf5e0f51bd",
   "metadata": {},
   "source": [
    "tuples can be accessed with indexes '[i]'\n",
    "\n",
    "can append tuples to a list\n",
    "\n",
    "tuples can contain mutable objects"
   ]
  },
  {
   "cell_type": "code",
   "execution_count": 47,
   "id": "d2bc3397-bc02-4ee9-ba0b-bd4aecc698c8",
   "metadata": {},
   "outputs": [
    {
     "name": "stdout",
     "output_type": "stream",
     "text": [
      "[1, 8, 11, 4, 5]\n",
      "('Amanda', 'Blue', [98, 75, 87])\n",
      "('Amanda', 'Blue', [98, 0, 87])\n"
     ]
    }
   ],
   "source": [
    "# adding a tuple to a list\n",
    "numbers = [1,8,11]\n",
    "time_tuple = (4,5)\n",
    "numbers += time_tuple\n",
    "print(numbers)\n",
    "\n",
    "# mutable objects within a tuple\n",
    "student_tuple = ('Amanda', 'Blue', [98,75,87])\n",
    "print(student_tuple)\n",
    "student_tuple[2][1] = 0\n",
    "print(student_tuple)"
   ]
  },
  {
   "cell_type": "markdown",
   "id": "4d89c4c1-a238-4377-95f5-65862471ec77",
   "metadata": {},
   "source": [
    "# Working with Sequences"
   ]
  },
  {
   "cell_type": "markdown",
   "id": "079f8f06-0119-4653-8c88-57140abc510e",
   "metadata": {},
   "source": [
    "#### Unpacking Sequence\n",
    "Sequences (collections of objects) in Python include Strings, lists, and tuples."
   ]
  },
  {
   "cell_type": "markdown",
   "id": "3358178a-fd89-4431-bb81-36c54370a616",
   "metadata": {},
   "source": [
    "A sequence can be \"unpacked\" by assigning the sequence to a comma-separated list of variables.\n",
    "\n",
    "NOTE: ValueError occurs if # of variables to left not identical to # of elements in sequence to right."
   ]
  },
  {
   "cell_type": "code",
   "execution_count": 52,
   "id": "edac6cf8-6db6-4a0b-9436-87264e1a25a2",
   "metadata": {},
   "outputs": [
    {
     "name": "stdout",
     "output_type": "stream",
     "text": [
      "Amanda\n",
      "[98, 85, 87]\n",
      "h and i\n"
     ]
    }
   ],
   "source": [
    "# unpacking a tuple\n",
    "student_tuple = ('Amanda', [98,85,87])\n",
    "first_name, grades = student_tuple\n",
    "print(first_name)\n",
    "print(grades)\n",
    "\n",
    "# unpacking a string\n",
    "first, second = 'hi'\n",
    "print(f'{first} and {second}')"
   ]
  },
  {
   "cell_type": "markdown",
   "id": "f72ecd09-e2a1-472b-b273-d47e145950bd",
   "metadata": {},
   "source": [
    "#### Swapping Variables with Packing & Unpacking"
   ]
  },
  {
   "cell_type": "code",
   "execution_count": 57,
   "id": "07c3d59b-45f2-4526-9394-8d2c23016745",
   "metadata": {},
   "outputs": [
    {
     "name": "stdout",
     "output_type": "stream",
     "text": [
      "99 33\n",
      "33 99\n"
     ]
    }
   ],
   "source": [
    "number_1 = 99\n",
    "number_2 = 33\n",
    "print(number_1,number_2)\n",
    "\n",
    "number_1, number_2 = (number_2, number_1)\n",
    "print(number_1,number_2)"
   ]
  },
  {
   "cell_type": "markdown",
   "id": "4de77d95-8ff9-46f1-bb0a-86ec27f6563d",
   "metadata": {},
   "source": [
    "#### Using 'enumerate()' to Access Elements\n",
    "enumerate() function addds a counter to an iterable"
   ]
  },
  {
   "cell_type": "code",
   "execution_count": 72,
   "id": "d11de186-1470-47d7-b96f-70d5862a18cb",
   "metadata": {},
   "outputs": [
    {
     "name": "stdout",
     "output_type": "stream",
     "text": [
      "[(0, 'red'), (1, 'orange'), (2, 'yellow')]\n",
      "0: red\n",
      "1: orange\n",
      "2: yellow\n"
     ]
    }
   ],
   "source": [
    "# using enumerate()\n",
    "colors = ['red','orange','yellow']\n",
    "print(list(enumerate(colors)))\n",
    "\n",
    "for index, value in enumerate(colors):\n",
    "    print(f'{index}: {value}')"
   ]
  },
  {
   "cell_type": "markdown",
   "id": "5c427644-02db-406e-a40f-9dcb32426aeb",
   "metadata": {},
   "source": [
    "#### Sequence slicing\n",
    "sequences can be sliced to create new sequences of the same type containing subsets of the original elements"
   ]
  },
  {
   "cell_type": "code",
   "execution_count": 79,
   "id": "3471f137-0be1-45b5-aeb5-b1783c84007c",
   "metadata": {},
   "outputs": [
    {
     "name": "stdout",
     "output_type": "stream",
     "text": [
      "[5, 7, 11]\n",
      "[19, 17, 13, 11, 7, 5, 3, 2]\n",
      "['two', 'three', 'five', 7, 11, 13, 17, 19]\n",
      "[7, 11, 13, 17, 19]\n"
     ]
    }
   ],
   "source": [
    "numbers = [2,3,5,7,11,13,17,19]\n",
    "\n",
    "# slice with starting & ending indices\n",
    "print(numbers[2:5])\n",
    "\n",
    "# slice with steps (negative)\n",
    "print(numbers[::-1])\n",
    "\n",
    "# modifying a list by assigning a slice\n",
    "numbers[0:3] = ['two','three','five']\n",
    "print(numbers)\n",
    "\n",
    "# deleting elements by assinging an empty list to a slice\n",
    "numbers[0:3] = []\n",
    "print(numbers)"
   ]
  },
  {
   "cell_type": "markdown",
   "id": "6b2a217d-60dc-429f-af28-de7494be57e0",
   "metadata": {},
   "source": [
    "#### Removing Elements - 'del' Statement & 'remove()' function\n",
    "using 'del' can also remove elements from a list (similar to assigning an empty list to a slice)\n",
    "\n",
    "using remove() will remove the first occurence of an element in a list"
   ]
  },
  {
   "cell_type": "code",
   "execution_count": 184,
   "id": "34f5447d-5f0b-4e0e-9f4a-5c713a84536e",
   "metadata": {},
   "outputs": [
    {
     "name": "stdout",
     "output_type": "stream",
     "text": [
      "[1, 80, 80, 5305]\n",
      "[1, 80, 80]\n",
      "[1, 80]\n"
     ]
    }
   ],
   "source": [
    "numbers = [1, 80, 80, 5305]\n",
    "print(numbers)\n",
    "\n",
    "# delete a specified index using 'del'\n",
    "del numbers[-1]\n",
    "print(numbers)\n",
    "\n",
    "# removing the first instance of 80\n",
    "numbers.remove(80)\n",
    "print(numbers)"
   ]
  },
  {
   "cell_type": "markdown",
   "id": "4715909b-8d5b-4800-8422-611971c016b2",
   "metadata": {},
   "source": [
    "#### Note on Passing Lists & Tuples to Functions\n",
    "Consider the following two examples of passing sequences to a function (NOTE: tuples are immutable)"
   ]
  },
  {
   "cell_type": "code",
   "execution_count": 97,
   "id": "f39290d2-5622-4f5e-bf7d-3b6fae545fbe",
   "metadata": {},
   "outputs": [
    {
     "name": "stdout",
     "output_type": "stream",
     "text": [
      "[20, 6, 14, 2, 18]\n"
     ]
    }
   ],
   "source": [
    "def modify_elements(items):\n",
    "    \"\"\"Multiplies all element values in items by 2.\"\"\"\n",
    "    for i in range(len(items)):\n",
    "        items[i] *= 2\n",
    "\n",
    "# passing a list to a function\n",
    "numbers = [10,3,7,1,9]\n",
    "modify_elements(numbers)\n",
    "print(numbers)"
   ]
  },
  {
   "cell_type": "code",
   "execution_count": 95,
   "id": "eac2f31b-c5b7-40ba-99bb-8a092510d52a",
   "metadata": {},
   "outputs": [
    {
     "ename": "TypeError",
     "evalue": "'tuple' object does not support item assignment",
     "output_type": "error",
     "traceback": [
      "\u001b[1;31m---------------------------------------------------------------------------\u001b[0m",
      "\u001b[1;31mTypeError\u001b[0m                                 Traceback (most recent call last)",
      "Cell \u001b[1;32mIn[95], line 8\u001b[0m\n\u001b[0;32m      6\u001b[0m \u001b[38;5;66;03m# passing a tuple to a function\u001b[39;00m\n\u001b[0;32m      7\u001b[0m numbers_tuple \u001b[38;5;241m=\u001b[39m (\u001b[38;5;241m10\u001b[39m, \u001b[38;5;241m20\u001b[39m, \u001b[38;5;241m30\u001b[39m)\n\u001b[1;32m----> 8\u001b[0m modify_elements(numbers_tuple)\n\u001b[0;32m      9\u001b[0m \u001b[38;5;28mprint\u001b[39m(numbers_tuple)\n",
      "Cell \u001b[1;32mIn[95], line 4\u001b[0m, in \u001b[0;36mmodify_elements\u001b[1;34m(items)\u001b[0m\n\u001b[0;32m      2\u001b[0m \u001b[38;5;250m\u001b[39m\u001b[38;5;124;03m\"\"\"Multiplies all element values in items by 2.\"\"\"\u001b[39;00m\n\u001b[0;32m      3\u001b[0m \u001b[38;5;28;01mfor\u001b[39;00m i \u001b[38;5;129;01min\u001b[39;00m \u001b[38;5;28mrange\u001b[39m(\u001b[38;5;28mlen\u001b[39m(items)):\n\u001b[1;32m----> 4\u001b[0m     items[i] \u001b[38;5;241m*\u001b[39m\u001b[38;5;241m=\u001b[39m \u001b[38;5;241m2\u001b[39m\n",
      "\u001b[1;31mTypeError\u001b[0m: 'tuple' object does not support item assignment"
     ]
    }
   ],
   "source": [
    "def modify_elements(items):\n",
    "    \"\"\"Multiplies all element values in items by 2.\"\"\"\n",
    "    for i in range(len(items)):\n",
    "        items[i] *= 2\n",
    "\n",
    "# passing a tuple to a function\n",
    "numbers_tuple = (10, 20, 30)\n",
    "modify_elements(numbers_tuple)\n",
    "print(numbers_tuple)\n",
    "\n",
    "# NOTE: tuples are IMMUTABLE"
   ]
  },
  {
   "cell_type": "markdown",
   "id": "42df804d-b490-4f05-a283-5f5493dc6971",
   "metadata": {},
   "source": [
    "#### Sorting Sequences - 'sort()'\n",
    "We can use sorted() to take a sequence (String, list, or tuple) & return an arranged list, or use .sort()\n",
    "- sorted() does NOT change the original list\n",
    "- .sort() DOES change the original list"
   ]
  },
  {
   "cell_type": "code",
   "execution_count": 113,
   "id": "7a485891-5d8b-480a-80d4-3ac5d610651c",
   "metadata": {},
   "outputs": [
    {
     "name": "stdout",
     "output_type": "stream",
     "text": [
      "[1, 2, 3, 4, 5, 6, 7, 8, 9, 10]\n",
      "['a', 'b', 'c', 'd', 'e', 'f', 'g', 'h', 'i', 'j']\n",
      "[1, 2, 3, 4, 5, 6, 7, 8, 9, 10]\n",
      "[10, 9, 8, 7, 6, 5, 4, 3, 2, 1]\n"
     ]
    }
   ],
   "source": [
    "# using sorted() on a list\n",
    "numbers = [10,3,7,1,9,4,2,8,5,6]\n",
    "ascending_numbers = sorted(numbers)\n",
    "print(ascending_numbers)\n",
    "\n",
    "# using sorted() on a String\n",
    "letters = 'fadgchjebi'\n",
    "ascending_letters = sorted(letters)\n",
    "print(ascending_letters)\n",
    "\n",
    "# using .sort() on a list\n",
    "numbers.sort()\n",
    "print(numbers)\n",
    "\n",
    "# using .sort() to REVERSE a list\n",
    "numbers.sort(reverse=True)\n",
    "print(numbers)"
   ]
  },
  {
   "cell_type": "markdown",
   "id": "6e7561d9-259f-4aa4-9f59-48ef818ec2ca",
   "metadata": {},
   "source": [
    "#### Searching Sequences - 'index()'\n",
    "Can search a sequence for a particular key value using the index() function. This returns the index of that search key within the sequence.\n",
    "\n",
    "May specify index from where to start & up to (but not including) the end index with 2nd & 3rd arguments"
   ]
  },
  {
   "cell_type": "code",
   "execution_count": 132,
   "id": "5ca60fec-b7bd-45fd-8c62-6498085369c3",
   "metadata": {},
   "outputs": [
    {
     "name": "stdout",
     "output_type": "stream",
     "text": [
      "6\n",
      "7\n"
     ]
    }
   ],
   "source": [
    "numbers = [3,7,1,4,2,8,5,6]\n",
    "print(numbers.index(5))\n",
    "\n",
    "# search last 3 elements for '6'\n",
    "print(numbers.index(6,5,len(numbers)))"
   ]
  },
  {
   "cell_type": "markdown",
   "id": "f1843121-2be8-4751-90a0-ffb4c3bed845",
   "metadata": {},
   "source": [
    "May additionally search sequence using operators 'in' and 'not in':"
   ]
  },
  {
   "cell_type": "code",
   "execution_count": 139,
   "id": "739f4ae2-c48f-4ac0-960e-ba4a4fedf877",
   "metadata": {},
   "outputs": [
    {
     "name": "stdout",
     "output_type": "stream",
     "text": [
      "False\n",
      "True\n"
     ]
    }
   ],
   "source": [
    "# using 'in'\n",
    "print(1000 in numbers)\n",
    "\n",
    "# using 'not in'\n",
    "print(1000 not in numbers)"
   ]
  },
  {
   "cell_type": "markdown",
   "id": "9f4a8141-14c9-4994-a5bc-62eacf282bc5",
   "metadata": {},
   "source": [
    "NOTE: a 'ValueError' occurs if the value being searched is not in the list\n",
    "\n",
    "We can use the operators 'in' and 'not in' to prevent a 'ValueError' from happening"
   ]
  },
  {
   "cell_type": "code",
   "execution_count": 145,
   "id": "6876275f-b602-4bb0-bf89-3d323402799d",
   "metadata": {},
   "outputs": [
    {
     "name": "stdout",
     "output_type": "stream",
     "text": [
      "found 1000 at index 3\n"
     ]
    }
   ],
   "source": [
    "# simple control structure to prevent 'ValueError' when searching numbers sequence\n",
    "key = 1000\n",
    "numbers = [1,80,5305,1000,53]\n",
    "\n",
    "if key in numbers:\n",
    "    print(f'found {key} at index {numbers.index(key)}')\n",
    "else:\n",
    "    print(f'{key} not found')"
   ]
  },
  {
   "cell_type": "markdown",
   "id": "94feaa6e-88a9-47b9-ac60-3d7276fc098f",
   "metadata": {},
   "source": [
    "#### Using 'any()' and 'all()'\n",
    "any() returns True if any item in its iterable argument is True\n",
    "\n",
    "all() returns True if all items in its iterable argument are True"
   ]
  },
  {
   "cell_type": "code",
   "execution_count": 158,
   "id": "2d44879b-7d29-4675-a598-ae8a4fcca82a",
   "metadata": {},
   "outputs": [
    {
     "name": "stdout",
     "output_type": "stream",
     "text": [
      "[4, 8, 12, 16, 20, 24, 28, 32, 36, 40]\n",
      "[False, False, False, False, True, False, False, False, False, True]\n",
      "See whether at least one number is divisible by 5 in the first list =>\n",
      "True\n",
      "False\n"
     ]
    }
   ],
   "source": [
    "list_1 = [4 * i for i in range(1,11)]\n",
    "print(list_1)\n",
    "\n",
    "# create a list of Booleans based on whether each index is divisible by '5'\n",
    "#    otherwise checking whether each element of first list is divisible by 5\n",
    "list_2 = [list_1[i] % 5 == 0 for i in range(10)]\n",
    "print(list_2)\n",
    "\n",
    "print('See whether at least one number is divisible by 5 in the first list =>')\n",
    "\n",
    "# checking for one 'True'\n",
    "print(any(list_2))\n",
    "\n",
    "# checking for ALL 'True'\n",
    "print(all(list_2))"
   ]
  },
  {
   "cell_type": "markdown",
   "id": "87ed1103-a4ca-4ead-93ab-adc35279c58a",
   "metadata": {},
   "source": [
    "#### Adding to Lists - 'insert()', 'append()', 'extend()'\n",
    "We've used append() to add to lists (see Lists section) but we can add other sequences to a list using extend() and can insert elements at certain points with insert()."
   ]
  },
  {
   "cell_type": "code",
   "execution_count": 172,
   "id": "dc0a91d8-087f-4f4c-bce8-42ce63551f0e",
   "metadata": {},
   "outputs": [
    {
     "name": "stdout",
     "output_type": "stream",
     "text": [
      "['red', 'orange', 'yellow', 'green']\n",
      "['red', 'orange', 'yellow', 'green', 'violet', 'purple']\n"
     ]
    }
   ],
   "source": [
    "color_names = ['orange','yellow','green']\n",
    "\n",
    "# using insert()\n",
    "color_names.insert(0,'red')\n",
    "print(color_names)\n",
    "\n",
    "# using extend()\n",
    "color_names.extend(['violet','purple'])\n",
    "print(color_names)\n",
    "\n",
    "# NOTE: the following will NOT work, extend() takes exactly ONE argument:\n",
    "# color_names.extend('violet','purple')"
   ]
  },
  {
   "cell_type": "markdown",
   "id": "3b8d3b11-2cc3-42f2-8ff9-6bbb66f9031c",
   "metadata": {},
   "source": [
    "#### Other List Operations\n",
    "We can clear a list with clear() method\n",
    "\n",
    "Count the number of occurences of an item with the count() method\n",
    "\n",
    "Reverse a list with the reverse() method\n",
    "\n",
    "copy a list with the copy() method"
   ]
  },
  {
   "cell_type": "code",
   "execution_count": 209,
   "id": "1a36459d-531b-4f99-aa72-dd4ad7efbfdc",
   "metadata": {},
   "outputs": [
    {
     "name": "stdout",
     "output_type": "stream",
     "text": [
      "[]\n",
      "1 appears 0 times in num_list\n",
      "2 appears 1 times in num_list\n",
      "3 appears 1 times in num_list\n",
      "4 appears 0 times in num_list\n",
      "5 appears 1 times in num_list\n",
      "6 appears 5 times in num_list\n",
      "7 appears 3 times in num_list\n",
      "[20, 8, 7, 7, 7, 6, 6, 6, 6, 6, 5, 3, 2]\n",
      "[40, 16, 14, 14, 14, 12, 12, 12, 12, 12, 10, 6, 4]\n",
      "[20, 8, 7, 7, 7, 6, 6, 6, 6, 6, 5, 3, 2]\n"
     ]
    }
   ],
   "source": [
    "color_names = ['red','green','blue','yellow']\n",
    "\n",
    "# clearing a list\n",
    "color_names.clear()\n",
    "print(color_names)\n",
    "\n",
    "num_list = [8,3,5,7,6,6,2,7,6,6,7,6,20]\n",
    "# counting in a list\n",
    "for i in range(1,8):\n",
    "    print(f'{i} appears {num_list.count(i)} times in num_list')\n",
    "\n",
    "# reversing a sorted list\n",
    "num_list.sort()\n",
    "num_list.reverse()\n",
    "print(num_list)\n",
    "\n",
    "# copying a list\n",
    "copied_list = num_list.copy()\n",
    "for i in range(len(copied_list)):\n",
    "    copied_list[i] *= 2\n",
    "\n",
    "print(copied_list)\n",
    "print(num_list)"
   ]
  },
  {
   "cell_type": "markdown",
   "id": "3da6e85b-e907-4f95-bc46-8f44f25c036a",
   "metadata": {},
   "source": [
    "#### Simulating Stacks\n",
    "Stack can be treated as a constrained list, using append(item) (in place of push) & pop() (no arguments)\n",
    "\n",
    "NOTE: if we try to use 'pop()' on an empty list, we get IndexError"
   ]
  },
  {
   "cell_type": "code",
   "execution_count": 213,
   "id": "04adb07b-7f3c-43c3-9aeb-fcc629a4c8b5",
   "metadata": {},
   "outputs": [
    {
     "name": "stdout",
     "output_type": "stream",
     "text": [
      "['red', 'green']\n"
     ]
    },
    {
     "data": {
      "text/plain": [
       "'green'"
      ]
     },
     "execution_count": 213,
     "metadata": {},
     "output_type": "execute_result"
    }
   ],
   "source": [
    "color_stack = []\n",
    "\n",
    "# 'pushing' elements\n",
    "color_stack.append('red')\n",
    "color_stack.append('green')\n",
    "\n",
    "print(color_stack)\n",
    "\n",
    "# 'popping' elements\n",
    "color_stack.pop()"
   ]
  },
  {
   "cell_type": "markdown",
   "id": "f132716b-5a69-41a2-8f6b-c678102afc79",
   "metadata": {},
   "source": [
    "# Comprehensions, Filters & Mapping & Zip"
   ]
  },
  {
   "cell_type": "markdown",
   "id": "258cb805-a1eb-4252-9090-bace160d7097",
   "metadata": {},
   "source": [
    "#### List Comprehensions\n",
    "1. Concise and convenient notation for creating new lists. Replaces many 'for' statements.\n",
    "2. May also use \"mapping\" to modify or perform tasks that map elements to new values.\n",
    "3. Useful for filtering or selecting only those that match a condition\n",
    "4. Can process another lists elements"
   ]
  },
  {
   "cell_type": "code",
   "execution_count": 230,
   "id": "599066bd-61e6-42f5-9674-7149f3167d23",
   "metadata": {},
   "outputs": [
    {
     "name": "stdout",
     "output_type": "stream",
     "text": [
      "[1, 2, 3, 4, 5]\n",
      "[1, 2, 3, 4, 5]\n"
     ]
    }
   ],
   "source": [
    "# old method for filling a list\n",
    "list_1 = []\n",
    "\n",
    "for item in range(1,6):\n",
    "    list_1.append(item)\n",
    "\n",
    "print(list_1)\n",
    "\n",
    "# comprehensive method for filling a list\n",
    "list_2 = [item for item in range(1,6)]\n",
    "\n",
    "print(list_2)"
   ]
  },
  {
   "cell_type": "code",
   "execution_count": 226,
   "id": "97c14494-c28d-4149-81c7-6e0730f2f706",
   "metadata": {},
   "outputs": [
    {
     "name": "stdout",
     "output_type": "stream",
     "text": [
      "[1, 8, 27, 64, 125]\n"
     ]
    }
   ],
   "source": [
    "# mapping elements with a cube calculation\n",
    "list_3 = [item ** 3 for item in range(1,6)]\n",
    "print(list_3)"
   ]
  },
  {
   "cell_type": "code",
   "execution_count": 236,
   "id": "6efa2c28-ffbc-4c5d-8cf4-3898c1f9e56b",
   "metadata": {},
   "outputs": [
    {
     "name": "stdout",
     "output_type": "stream",
     "text": [
      "[2, 4, 6, 8, 10]\n"
     ]
    }
   ],
   "source": [
    "# filtering items (#'s 1-10 divisible by '2')\n",
    "list_4 = [item for item in range(1,11) if item % 2 == 0]\n",
    "print(list_4)"
   ]
  },
  {
   "cell_type": "code",
   "execution_count": 239,
   "id": "1e441b43-c3db-4540-bcf4-451b21c202de",
   "metadata": {},
   "outputs": [
    {
     "name": "stdout",
     "output_type": "stream",
     "text": [
      "['RED', 'ORANGE', 'YELLOW', 'GREEN', 'BLUE']\n"
     ]
    }
   ],
   "source": [
    "# processing another list's elements\n",
    "colors = ['red','orange','yellow','green','blue']\n",
    "colors_2 = [item.upper() for item in colors]\n",
    "print(colors_2)"
   ]
  },
  {
   "cell_type": "markdown",
   "id": "19636fee-6d01-4e17-91fa-5b3ea64da016",
   "metadata": {},
   "source": [
    "#### Generator Expressions\n",
    "Similar to list comprehension. Creates an iterable generator object that produces values on demand.\n",
    "\n",
    "Has same capabilities as list comprehensions but parentheses are used for definition."
   ]
  },
  {
   "cell_type": "code",
   "execution_count": 257,
   "id": "be9e2a1e-8855-4690-9bfd-f2f897cd44a6",
   "metadata": {},
   "outputs": [
    {
     "name": "stdout",
     "output_type": "stream",
     "text": [
      "1 25 49 \n",
      "\n",
      "<generator object <genexpr> at 0x000001804FF80E10>\n",
      "1 25 49 "
     ]
    }
   ],
   "source": [
    "numbers = [1,5,10,7,20]\n",
    "\n",
    "# square only odd numbers\n",
    "for value in (x ** 2 for x in numbers if x % 2 != 0):\n",
    "    print(value, end = \" \")\n",
    "print(\"\\n\")\n",
    "\n",
    "# same process, using a generator\n",
    "squares_of_odds = (x ** 2 for x in numbers if x % 2 != 0)\n",
    "print(squares_of_odds)\n",
    "\n",
    "# iterating over the generator\n",
    "for v in squares_of_odds:\n",
    "    print(v, end=\" \")"
   ]
  },
  {
   "cell_type": "markdown",
   "id": "7d380403-8983-4869-b15f-7293beb826b9",
   "metadata": {},
   "source": [
    "#### Filter a Sequence's Values - 'filter()'\n",
    "Python functions are objects that can be:\n",
    "- assigned to variables\n",
    "- passed to other functions\n",
    "- returned form functions\n",
    "Functions receiving other functions as arguments are a functional-style capability called higher-order functions.\n",
    "\n",
    "filter()'s first argument must be a function that receives one argument and returns True if the value should be included in the result. Filter returns an iterator, so results cannot be produced until iterated."
   ]
  },
  {
   "cell_type": "code",
   "execution_count": 264,
   "id": "bef1dcbd-19ef-4496-836e-7a0344913f63",
   "metadata": {},
   "outputs": [
    {
     "data": {
      "text/plain": [
       "[3, 7, 1, 9, 5]"
      ]
     },
     "execution_count": 264,
     "metadata": {},
     "output_type": "execute_result"
    }
   ],
   "source": [
    "# using filter to get teh odd numbers of a list\n",
    "numbers = [10,3,7,1,9,4,2,8,5,6]\n",
    "\n",
    "def is_odd(x):\n",
    "    \"\"\"Returns True only if x is odd.\"\"\"\n",
    "    return x % 2 != 0\n",
    "\n",
    "list(filter(is_odd, numbers))"
   ]
  },
  {
   "cell_type": "markdown",
   "id": "30aa2fcf-ed31-4644-b42c-2cdb6970747c",
   "metadata": {},
   "source": [
    "For simple in-line functions we can use a lambda expression. To use a lambda expression specify the keyword 'lambda' followed by a comma-separated parameter list, a colon (:) and an expression"
   ]
  },
  {
   "cell_type": "code",
   "execution_count": 272,
   "id": "8836e64a-dea2-4ae1-8688-d0f9216fa1f6",
   "metadata": {},
   "outputs": [
    {
     "data": {
      "text/plain": [
       "<function __main__.<lambda>(parameter_list)>"
      ]
     },
     "execution_count": 272,
     "metadata": {},
     "output_type": "execute_result"
    }
   ],
   "source": [
    "# general form of a regular function\n",
    "def function_name(parameter_list):\n",
    "    return expression\n",
    "\n",
    "# general form of a lambda expression\n",
    "lambda parameter_list: expression"
   ]
  },
  {
   "cell_type": "code",
   "execution_count": 268,
   "id": "d8976770-36e3-45b0-bf33-01e17cbfe3b8",
   "metadata": {},
   "outputs": [
    {
     "data": {
      "text/plain": [
       "[3, 7, 1, 9, 5]"
      ]
     },
     "execution_count": 268,
     "metadata": {},
     "output_type": "execute_result"
    }
   ],
   "source": [
    "# using lambda to replace the 'is_odd' function\n",
    "list(filter(lambda x: x % 2 != 0, numbers))"
   ]
  },
  {
   "cell_type": "markdown",
   "id": "82143c30-22f2-40ba-88f6-33eadf940f37",
   "metadata": {},
   "source": [
    "#### Mapping a Sequence's Values to New Values - 'map()'\n",
    "We touched on mapping under the 'List Comprehensions' section. We can use the map() function to also map values from one sequence to another.\n",
    "\n",
    "map's first argument is a function that receives one value and returns a new value. Second argument is an iterable of values to map."
   ]
  },
  {
   "cell_type": "code",
   "execution_count": 288,
   "id": "f9e4caae-9e85-427a-aef7-2a89e4ff815a",
   "metadata": {},
   "outputs": [
    {
     "data": {
      "text/plain": [
       "[100, 9, 49, 1, 81, 16, 4, 64, 25, 36]"
      ]
     },
     "execution_count": 288,
     "metadata": {},
     "output_type": "execute_result"
    }
   ],
   "source": [
    "numbers = [10,3,7,1,9,4,2,8,5,6]\n",
    "\n",
    "# mapping from numbers to a new sequence of each value squared\n",
    "list(map(lambda x: x**2, numbers))"
   ]
  },
  {
   "cell_type": "code",
   "execution_count": 290,
   "id": "d8c02564-72eb-4c73-b51d-b593e875ae5c",
   "metadata": {},
   "outputs": [
    {
     "data": {
      "text/plain": [
       "[100, 9, 49, 1, 81, 16, 4, 64, 25, 36]"
      ]
     },
     "execution_count": 290,
     "metadata": {},
     "output_type": "execute_result"
    }
   ],
   "source": [
    "# this is the equivalent to mapping using list comprehension\n",
    "[item ** 2 for item in numbers]"
   ]
  },
  {
   "cell_type": "markdown",
   "id": "a2d02691-5183-4863-8eea-9d3dd549a04b",
   "metadata": {},
   "source": [
    "#### Ex. Combining Filter and Map"
   ]
  },
  {
   "cell_type": "code",
   "execution_count": 300,
   "id": "2dc7bee8-eaf2-4054-8c7a-45c4aefb8c54",
   "metadata": {},
   "outputs": [
    {
     "data": {
      "text/plain": [
       "[9, 49, 1, 81, 25]"
      ]
     },
     "execution_count": 300,
     "metadata": {},
     "output_type": "execute_result"
    }
   ],
   "source": [
    "# combination of filter & map\n",
    "#    ... finding the square of each odd number\n",
    "numbers = [10,3,7,1,9,4,2,8,5,6]\n",
    "list(map(lambda x: x ** 2, filter(lambda x: x % 2 != 0, numbers)))"
   ]
  },
  {
   "cell_type": "code",
   "execution_count": 302,
   "id": "30a8c7ca-34b1-4d85-80fd-1b0bebe76a4c",
   "metadata": {},
   "outputs": [
    {
     "data": {
      "text/plain": [
       "[9, 49, 1, 81, 25]"
      ]
     },
     "execution_count": 302,
     "metadata": {},
     "output_type": "execute_result"
    }
   ],
   "source": [
    "# same example but using list comrpehension\n",
    "[x ** 2 for x in numbers if x % 2 != 0]"
   ]
  },
  {
   "cell_type": "markdown",
   "id": "9a87648d-025d-47fa-a7dc-fc394a2a44fe",
   "metadata": {},
   "source": [
    "#### Combining Iterables into Tuples of Corresponding Elements - 'zip()'\n",
    "zip allows to iterate over multiple iterables of data at the same time"
   ]
  },
  {
   "cell_type": "code",
   "execution_count": 307,
   "id": "672001c2-b7bf-42aa-adac-c330845c8a80",
   "metadata": {},
   "outputs": [
    {
     "name": "stdout",
     "output_type": "stream",
     "text": [
      "Name = Bob; GPA = 3.5\n",
      "Name = Sue; GPA = 4.0\n",
      "Name = Amanda; GPA = 3.75\n"
     ]
    }
   ],
   "source": [
    "names = ['Bob', 'Sue', 'Amanda']\n",
    "\n",
    "gpas = [3.5, 4.0, 3.75]\n",
    "\n",
    "for name, gpa in zip(names,gpas):\n",
    "    print(f'Name = {name}; GPA = {gpa}')"
   ]
  },
  {
   "cell_type": "markdown",
   "id": "ac4580d7-bddf-40e1-87ad-9dfb6bf752b1",
   "metadata": {},
   "source": [
    "# Two-Dimensional Lists"
   ]
  },
  {
   "cell_type": "markdown",
   "id": "247fc50d-43d9-4754-9527-936990e019f2",
   "metadata": {},
   "source": [
    "A list can be 2-dimensional by containing other lists as elements.\n",
    "\n",
    "Used to represent tables of values consisting of information in rows and columns"
   ]
  },
  {
   "cell_type": "markdown",
   "id": "8500b38f-c3ea-46b6-9e35-34a42dd8a095",
   "metadata": {},
   "source": [
    "#### Defining Nested Lists"
   ]
  },
  {
   "cell_type": "code",
   "execution_count": 312,
   "id": "415e3649-0e05-4e55-9d9c-44976ceab17a",
   "metadata": {},
   "outputs": [],
   "source": [
    "# example of a 2D list, consider it as a table\n",
    "a = [[77, 68, 86, 73],\n",
    "    [96, 87, 89, 81],\n",
    "    [70, 90, 86, 81]]"
   ]
  },
  {
   "cell_type": "markdown",
   "id": "4e620daa-355e-4125-96fa-b9fd66ee8c3c",
   "metadata": {},
   "source": [
    "#### Iterating over Nested Lists"
   ]
  },
  {
   "cell_type": "code",
   "execution_count": 320,
   "id": "df902763-b83f-4a34-a7d6-b356887ec456",
   "metadata": {},
   "outputs": [
    {
     "name": "stdout",
     "output_type": "stream",
     "text": [
      "77\t68\t86\t73\t\n",
      "96\t87\t89\t81\t\n",
      "70\t90\t86\t81\t\n"
     ]
    }
   ],
   "source": [
    "for row in a:\n",
    "    for item in row:\n",
    "        print(item, end=\"\\t\")\n",
    "    print() # used to end each row"
   ]
  },
  {
   "cell_type": "code",
   "execution_count": 322,
   "id": "fa932269-5f5f-4df2-8aa5-76d7ca30091e",
   "metadata": {},
   "outputs": [
    {
     "name": "stdout",
     "output_type": "stream",
     "text": [
      "a[0][0]=77 \ta[0][1]=68 \ta[0][2]=86 \ta[0][3]=73 \t\n",
      "a[1][0]=96 \ta[1][1]=87 \ta[1][2]=89 \ta[1][3]=81 \t\n",
      "a[2][0]=70 \ta[2][1]=90 \ta[2][2]=86 \ta[2][3]=81 \t\n"
     ]
    }
   ],
   "source": [
    "# alternate example showing indexes with enumerate()\n",
    "for i, row in enumerate(a):\n",
    "    for j, item in enumerate(row):\n",
    "        print(f'a[{i}][{j}]={item} ',end='\\t')\n",
    "    print()"
   ]
  },
  {
   "cell_type": "markdown",
   "id": "b2a984a7-b6aa-4f84-bd60-6961c742be0c",
   "metadata": {},
   "source": [
    "# Data Science - Simulation and Static Visualizations"
   ]
  },
  {
   "cell_type": "markdown",
   "id": "d921688a-a27f-43d6-adc3-8894c46a6f56",
   "metadata": {},
   "source": [
    "Seaborn & Matplotlib are used for visualization. Seaborn is built over Matplot & simplifies many Matplotlib operations"
   ]
  },
  {
   "cell_type": "code",
   "execution_count": 326,
   "id": "58be4280-7ead-4ea7-a345-176c78321e99",
   "metadata": {},
   "outputs": [],
   "source": [
    "import matplotlib.pyplot as plt\n",
    "import numpy as np\n",
    "import random\n",
    "import seaborn as sns"
   ]
  },
  {
   "cell_type": "markdown",
   "id": "749184de-a6b4-493f-a11a-9ac43d9192bd",
   "metadata": {},
   "source": [
    "rolling Die & Calculating Die Frequencies"
   ]
  },
  {
   "cell_type": "code",
   "execution_count": 356,
   "id": "7f3e5ab2-8882-429f-95aa-3c4613729fa5",
   "metadata": {},
   "outputs": [],
   "source": [
    "rolls = [random.randrange(1,7) for i in range(600)]\n",
    "values, frequencies = np.unique(rolls, return_counts=True)"
   ]
  },
  {
   "cell_type": "code",
   "execution_count": 386,
   "id": "06d72947-90fc-43db-83a3-c17ca694c2f8",
   "metadata": {},
   "outputs": [
    {
     "name": "stderr",
     "output_type": "stream",
     "text": [
      "C:\\Users\\n7leg\\AppData\\Local\\Temp\\ipykernel_21460\\4201967411.py:4: FutureWarning: \n",
      "\n",
      "Passing `palette` without assigning `hue` is deprecated and will be removed in v0.14.0. Assign the `x` variable to `hue` and set `legend=False` for the same effect.\n",
      "\n",
      "  axes = sns.barplot(x=values, y=frequencies, palette='bright')\n"
     ]
    },
    {
     "data": {
      "image/png": "[encoded data removed]",
      "text/plain": [
       "<Figure size 640x480 with 1 Axes>"
      ]
     },
     "metadata": {},
     "output_type": "display_data"
    }
   ],
   "source": [
    "# Creating the Initial Bar Plot\n",
    "title = f'Rolling a Six-Sided Die {len(rolls):,} Times'\n",
    "sns.set_style('whitegrid')\n",
    "axes = sns.barplot(x=values, y=frequencies, palette='bright')\n",
    "\n",
    "# Setting the Window Title and Labeling the x- and y-Axes\n",
    "axes.set_title(title) # title\n",
    "plt.Text(0.5,1,'Rolling a Six-Sided Die 600 Times')\n",
    "axes.set(xlabel='Die Value', ylabel='Frequency') # axes labels\n",
    "[plt.Text(92.667,0.5,'Frequency'), plt.Text(0.5,58.7667,'Die Value')]\n",
    "\n",
    "# Finalizing the Bar Plot\n",
    "axes.set_ylim(top=max(frequencies) * 1.10)\n",
    "for bar, frequency in zip(axes.patches, frequencies):\n",
    "    text_x = bar.get_x() + bar.get_width() / 2.0\n",
    "    text_y = bar.get_height()\n",
    "    text = f'{frequency:,}\\n{frequency / len(rolls):.3%}'\n",
    "    axes.text(text_x, text_y, text, fontsize=11, ha='center', va='bottom')"
   ]
  },
  {
   "cell_type": "code",
   "execution_count": null,
   "id": "7c8b5a93-d9a2-4abe-8f3e-d10f1a04740f",
   "metadata": {},
   "outputs": [],
   "source": []
  }
 ],
 "metadata": {
  "kernelspec": {
   "display_name": "Python [conda env:base] *",
   "language": "python",
   "name": "conda-base-py"
  },
  "language_info": {
   "codemirror_mode": {
    "name": "ipython",
    "version": 3
   },
   "file_extension": ".py",
   "mimetype": "text/x-python",
   "name": "python",
   "nbconvert_exporter": "python",
   "pygments_lexer": "ipython3",
   "version": "3.12.3"
  }
 },
 "nbformat": 4,
 "nbformat_minor": 5
}
