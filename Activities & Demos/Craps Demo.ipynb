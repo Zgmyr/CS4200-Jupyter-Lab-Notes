{
 "cells": [
  {
   "cell_type": "markdown",
   "id": "670d02a1-437a-4b0c-91c9-7552ea9990e3",
   "metadata": {},
   "source": [
    "### Craps Demo - Dice Game"
   ]
  },
  {
   "cell_type": "code",
   "execution_count": 62,
   "id": "ec174b87-20a2-44cf-91c6-c525eee201a1",
   "metadata": {},
   "outputs": [
    {
     "name": "stdout",
     "output_type": "stream",
     "text": [
      "Player rolled 6 + 6 = 12\n",
      "Player loses\n"
     ]
    }
   ],
   "source": [
    "\"\"\"Simulating the dice game Craps\"\"\"\n",
    "import random\n",
    "\n",
    "def roll_dice():\n",
    "    \"\"\"Roll two dice and return their face values as a tuple.\"\"\"\n",
    "    die1 = random.randrange(1,7)\n",
    "    die2 = random.randrange(1,7)\n",
    "    return (die1, die2)  # pack die face values into a tuple\n",
    "\n",
    "def display_dice(dice):\n",
    "    \"\"\"Display one roll of the two dice.\"\"\"\n",
    "    die1, die2 = dice # unpack the tuple into variables die1 and die2\n",
    "    print(f\"Player rolled {die1} + {die2} = {sum(dice)}\")\n",
    "\n",
    "die_values = roll_dice() # first roll\n",
    "display_dice(die_values)\n",
    "\n",
    "# determine game status and point, based on first roll\n",
    "sum_of_dice = sum(die_values)\n",
    "\n",
    "if sum_of_dice in (7,11): # win\n",
    "    game_status = 'WON'\n",
    "elif sum_of_dice in (2,3,12): # lose\n",
    "    game_status = 'LOST'\n",
    "else: # remember point\n",
    "    game_status = 'CONTINUE'\n",
    "    my_point = sum_of_dice\n",
    "    print('Point is', my_point)\n",
    "\n",
    "# continue rolling until player wins or loses\n",
    "while game_status == 'CONTINUE':\n",
    "    die_values = roll_dice()\n",
    "    display_dice(die_values)\n",
    "    sum_of_dice = sum(die_values)\n",
    "\n",
    "    if sum_of_dice == my_point: # win by making point\n",
    "        game_status = 'WON'\n",
    "    elif sum_of_dice == 7: # lose by rolling 7\n",
    "        game_status = 'LOST'\n",
    "\n",
    "# display \"wins\" or \"loses\" message\n",
    "if game_status == 'WON':\n",
    "    print('player wins')\n",
    "else:\n",
    "    print('Player loses')\n"
   ]
  },
  {
   "cell_type": "code",
   "execution_count": null,
   "id": "8d89f8f6-0390-4685-9f70-2f15a1f03e21",
   "metadata": {},
   "outputs": [],
   "source": []
  }
 ],
 "metadata": {
  "kernelspec": {
   "display_name": "Python [conda env:base] *",
   "language": "python",
   "name": "conda-base-py"
  },
  "language_info": {
   "codemirror_mode": {
    "name": "ipython",
    "version": 3
   },
   "file_extension": ".py",
   "mimetype": "text/x-python",
   "name": "python",
   "nbconvert_exporter": "python",
   "pygments_lexer": "ipython3",
   "version": "3.12.3"
  }
 },
 "nbformat": 4,
 "nbformat_minor": 5
}
