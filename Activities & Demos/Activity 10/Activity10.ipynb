{
 "cells": [
  {
   "cell_type": "markdown",
   "id": "3b267618-0b40-4b1c-8c6a-13f579cccef9",
   "metadata": {},
   "source": [
    "#### Question 1: write a class for Person with name, country & DOB"
   ]
  },
  {
   "cell_type": "code",
   "execution_count": 83,
   "id": "ca16828e-07db-47a8-8b32-55e4e26ffc8b",
   "metadata": {},
   "outputs": [
    {
     "name": "stdout",
     "output_type": "stream",
     "text": [
      "Enter the details for 1:\n"
     ]
    },
    {
     "name": "stdin",
     "output_type": "stream",
     "text": [
      "Name: Bob\n",
      "Country: USA\n",
      "Date of birth: 2002-05-01\n"
     ]
    },
    {
     "name": "stdout",
     "output_type": "stream",
     "text": [
      "\n",
      "Details of all people:\n",
      "\n",
      "Name: Bob\n",
      "\n",
      "Country: USA\n",
      "\n",
      "DOB: <bound method Person.getDOB of <__main__.Person object at 0x000001EAEDCCF470>>\n",
      "\n",
      "Age: 22\n"
     ]
    }
   ],
   "source": [
    "from datetime import datetime\n",
    "class Person:\n",
    "    name = \"\"\n",
    "    country = \"\"\n",
    "    date_of_birth = \"\"\n",
    "\n",
    "    # constructor\n",
    "    def __init__(self, name, country, date_of_birth):\n",
    "        self.name = name\n",
    "        self.country = country\n",
    "        self.date_of_birth = date_of_birth\n",
    "\n",
    "    # setters & getters\n",
    "    def setName(self, name):\n",
    "        self.name = name\n",
    "\n",
    "    def getName(self):\n",
    "        return self.name\n",
    "\n",
    "    def setCountry(self, country):\n",
    "        self.country = country\n",
    "\n",
    "    def getCountry(self):\n",
    "        return self.country\n",
    "\n",
    "    def setDOB(self, date_of_birth):\n",
    "        self.date_of_birth = dateOfBirth\n",
    "\n",
    "    def getDOB(self):\n",
    "        return self.date_of_birth\n",
    "\n",
    "    # calculating age\n",
    "    def calculate_age(self):\n",
    "        birth_date = datetime.strptime(self.date_of_birth, \"%Y-%m-%d\")\n",
    "        today = datetime.today()\n",
    "        age = today.year - birth_date.year - ((today.month, today.day) < (birth_date.month, birth_date.day))\n",
    "        return age\n",
    "\n",
    "# main script\n",
    "def main():\n",
    "    people = []\n",
    "\n",
    "    for i in range(4):\n",
    "        print(f\"Enter the details for {i+1}:\")\n",
    "        name = input(\"Name:\")\n",
    "        country = input(\"Country:\")\n",
    "        date_of_birth = input(\"Date of birth:\")\n",
    "\n",
    "        person = Person(name, country, date_of_birth)\n",
    "        people.append(person)\n",
    "    print(\"\\nDetails of all people:\")\n",
    "    for person in people:\n",
    "        print(f\"\\nName: {person.getName()}\")\n",
    "        print(f\"\\nCountry: {person.getCountry()}\")\n",
    "        print(f\"\\nDOB: {person.getDOB}\")\n",
    "        print(f\"\\nAge: {person.calculate_age()}\")\n",
    "\n",
    "main()"
   ]
  },
  {
   "cell_type": "code",
   "execution_count": null,
   "id": "3061d8ba-52d9-46bb-8826-450231de26cb",
   "metadata": {},
   "outputs": [],
   "source": []
  }
 ],
 "metadata": {
  "kernelspec": {
   "display_name": "Python [conda env:base] *",
   "language": "python",
   "name": "conda-base-py"
  },
  "language_info": {
   "codemirror_mode": {
    "name": "ipython",
    "version": 3
   },
   "file_extension": ".py",
   "mimetype": "text/x-python",
   "name": "python",
   "nbconvert_exporter": "python",
   "pygments_lexer": "ipython3",
   "version": "3.12.3"
  }
 },
 "nbformat": 4,
 "nbformat_minor": 5
}
