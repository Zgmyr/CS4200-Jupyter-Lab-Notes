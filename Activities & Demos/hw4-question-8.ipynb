{
 "cells": [
  {
   "cell_type": "code",
   "execution_count": 63,
   "id": "71c6b315-10ff-4fcf-9cd0-7560779c88c5",
   "metadata": {},
   "outputs": [
    {
     "name": "stderr",
     "output_type": "stream",
     "text": [
      "C:\\Users\\n7leg\\AppData\\Local\\Temp\\ipykernel_4212\\1159111236.py:15: FutureWarning: \n",
      "\n",
      "Passing `palette` without assigning `hue` is deprecated and will be removed in v0.14.0. Assign the `x` variable to `hue` and set `legend=False` for the same effect.\n",
      "\n",
      "  axes = sns.barplot(x=ratings, y=frequencies, palette='bright')\n"
     ]
    },
    {
     "ename": "NameError",
     "evalue": "name 'rolls' is not defined",
     "output_type": "error",
     "traceback": [
      "\u001b[1;31m---------------------------------------------------------------------------\u001b[0m",
      "\u001b[1;31mNameError\u001b[0m                                 Traceback (most recent call last)",
      "Cell \u001b[1;32mIn[63], line 28\u001b[0m\n\u001b[0;32m     26\u001b[0m text_x \u001b[38;5;241m=\u001b[39m bar\u001b[38;5;241m.\u001b[39mget_x() \u001b[38;5;241m+\u001b[39m bar\u001b[38;5;241m.\u001b[39mget_width() \u001b[38;5;241m/\u001b[39m \u001b[38;5;241m2.0\u001b[39m\n\u001b[0;32m     27\u001b[0m text_y \u001b[38;5;241m=\u001b[39m bar\u001b[38;5;241m.\u001b[39mget_height()\n\u001b[1;32m---> 28\u001b[0m text \u001b[38;5;241m=\u001b[39m \u001b[38;5;124mf\u001b[39m\u001b[38;5;124m'\u001b[39m\u001b[38;5;132;01m{\u001b[39;00mfrequency\u001b[38;5;132;01m:\u001b[39;00m\u001b[38;5;124m,\u001b[39m\u001b[38;5;132;01m}\u001b[39;00m\u001b[38;5;130;01m\\n\u001b[39;00m\u001b[38;5;132;01m{\u001b[39;00mfrequency\u001b[38;5;250m \u001b[39m\u001b[38;5;241m/\u001b[39m\u001b[38;5;250m \u001b[39m\u001b[38;5;28mlen\u001b[39m(rolls)\u001b[38;5;132;01m:\u001b[39;00m\u001b[38;5;124m.3%\u001b[39m\u001b[38;5;132;01m}\u001b[39;00m\u001b[38;5;124m'\u001b[39m\n\u001b[0;32m     29\u001b[0m axes\u001b[38;5;241m.\u001b[39mtext(text_x, text_y, text, fontsize\u001b[38;5;241m=\u001b[39m\u001b[38;5;241m11\u001b[39m, ha\u001b[38;5;241m=\u001b[39m\u001b[38;5;124m'\u001b[39m\u001b[38;5;124mcenter\u001b[39m\u001b[38;5;124m'\u001b[39m, va\u001b[38;5;241m=\u001b[39m\u001b[38;5;124m'\u001b[39m\u001b[38;5;124mbottom\u001b[39m\u001b[38;5;124m'\u001b[39m)\n",
      "\u001b[1;31mNameError\u001b[0m: name 'rolls' is not defined"
     ]
    },
    {
     "data": {
      "image/png": "[encoded data removed]",
      "text/plain": [
       "<Figure size 640x480 with 1 Axes>"
      ]
     },
     "metadata": {},
     "output_type": "display_data"
    }
   ],
   "source": [
    "# Question 8:\n",
    "\n",
    "# Displaying chart\n",
    "import matplotlib.pyplot as plt\n",
    "import numpy as np\n",
    "import random\n",
    "import seaborn as sns\n",
    "\n",
    "ratings_list = [1,2,4,4,3,5,2,1,3,3,1,4,3,3,3,2,3,3,2,5]\n",
    "ratings, frequencies = np.unique(ratings_list, return_counts=True)\n",
    "\n",
    "# Creating the Initial Bar Plot\n",
    "title = f'Cafeteria Food Ratings from {len(ratings_list):,} Students'\n",
    "sns.set_style('whitegrid')\n",
    "axes = sns.barplot(x=ratings, y=frequencies, palette='bright')\n",
    "\n",
    "# Setting the Window Title and Labeling the x- and y-Axes\n",
    "axes.set_title(title) # title\n",
    "plt.Text(0.5,1,'Cafeteria Food Ratings')\n",
    "axes.set(xlabel='Rating (Out of 5)', ylabel='Frequency') # axes labels\n",
    "[plt.Text(92.667,0.5,'Frequency'), plt.Text(0.5,58.7667,'Rating')]\n",
    "\n",
    "# Finalizing the Bar Plot\n",
    "axes.set_ylim(top=max(frequencies) * 1.10)\n",
    "for bar, frequency in zip(axes.patches, frequencies):\n",
    "    text_x = bar.get_x() + bar.get_width() / 2.0\n",
    "    text_y = bar.get_height()\n",
    "    text = f'{frequency:,}\\n{frequency / len(rolls):.3%}'\n",
    "    axes.text(text_x, text_y, text, fontsize=11, ha='center', va='bottom')"
   ]
  },
  {
   "cell_type": "code",
   "execution_count": 64,
   "id": "32ffc3a9-dbc4-4ad5-a37f-35127f2e2ec6",
   "metadata": {},
   "outputs": [
    {
     "name": "stdout",
     "output_type": "stream",
     "text": [
      "minimum    1         \n",
      "maximum    5         \n",
      "range      4         \n",
      "mean       2.85      \n",
      "median     3.0       \n",
      "mode       3         \n",
      "variance   1.3275000000000001\n",
      "std. dev.  1.1521718621802912\n"
     ]
    }
   ],
   "source": [
    "# Getting Stats\n",
    "ratings_arr = np.array(ratings_list)\n",
    "\n",
    "# for finding mode\n",
    "def find_mode(sequence):\n",
    "    frequency_list = {}\n",
    "    mode = -1\n",
    "    highest_freq = -1\n",
    "    \n",
    "    for i in sequence:\n",
    "        if i in frequency_list:\n",
    "            frequency_list[i] += 1\n",
    "        else:\n",
    "            frequency_list[i] = 1\n",
    "    for item,count in frequency_list.items():\n",
    "        if count > highest_freq:\n",
    "            mode = item\n",
    "            highest_freq = count\n",
    "    return mode\n",
    "\n",
    "# using NumPy methods & median function to get stats from our array\n",
    "stats_list = []\n",
    "stats_labels = ['minimum','maximum','range','mean','median','mode','variance','std. dev.']\n",
    "\n",
    "minimum = ratings_arr.min()\n",
    "stats_list.append(minimum)\n",
    "\n",
    "maximum = ratings_arr.max()\n",
    "stats_list.append(maximum)\n",
    "\n",
    "ratings_range = maximum - minimum\n",
    "stats_list.append(ratings_range)\n",
    "\n",
    "mean = ratings_arr.mean()\n",
    "stats_list.append(mean)\n",
    "\n",
    "median = np.median(ratings_arr)\n",
    "stats_list.append(median)\n",
    "\n",
    "mode = find_mode(ratings_list)\n",
    "stats_list.append(mode)\n",
    "\n",
    "variance = ratings_arr.var()\n",
    "stats_list.append(variance)\n",
    "\n",
    "stdDev = ratings_arr.std()\n",
    "stats_list.append(stdDev)\n",
    "\n",
    "for label,stat in zip(stats_labels,stats_list):\n",
    "    print(f\"{label:<10} {stat:<10}\")\n"
   ]
  },
  {
   "cell_type": "code",
   "execution_count": null,
   "id": "0db6e0e1-88af-4126-a3d5-ade19b417dbd",
   "metadata": {},
   "outputs": [],
   "source": []
  }
 ],
 "metadata": {
  "kernelspec": {
   "display_name": "Python [conda env:base] *",
   "language": "python",
   "name": "conda-base-py"
  },
  "language_info": {
   "codemirror_mode": {
    "name": "ipython",
    "version": 3
   },
   "file_extension": ".py",
   "mimetype": "text/x-python",
   "name": "python",
   "nbconvert_exporter": "python",
   "pygments_lexer": "ipython3",
   "version": "3.12.3"
  }
 },
 "nbformat": 4,
 "nbformat_minor": 5
}
