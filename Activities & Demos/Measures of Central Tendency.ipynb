{
 "cells": [
  {
   "cell_type": "markdown",
   "id": "39f623bc-82d6-42b5-b34b-19bf0236e8a0",
   "metadata": {},
   "source": [
    "# Equation Sheet"
   ]
  },
  {
   "cell_type": "markdown",
   "id": "8721d12e-2710-4966-bbdf-7a581ef147ea",
   "metadata": {},
   "source": [
    "### Measure of Central Tendency (Mean, Median, Mode)"
   ]
  },
  {
   "cell_type": "markdown",
   "id": "cd0152d4-cad9-4d3d-872f-97780defd485",
   "metadata": {},
   "source": [
    "#### Use of the 'Statistics' Library - Mean, Median, Mode"
   ]
  },
  {
   "cell_type": "code",
   "execution_count": 11,
   "id": "bd062c06-52fe-467d-b28f-e2d1b600a9cd",
   "metadata": {},
   "outputs": [
    {
     "name": "stdout",
     "output_type": "stream",
     "text": [
      "Mean = 79.4\n",
      "Median = 85\n",
      "Mode = 85\n"
     ]
    }
   ],
   "source": [
    "import statistics\n",
    "grades = [85,93,45,89,85]\n",
    "mean = statistics.mean(grades)\n",
    "median = statistics.median(grades)\n",
    "mode = statistics.mode(grades)\n",
    "\n",
    "print(f\"Mean = {mean}\")\n",
    "print(f\"Median = {median}\")\n",
    "print(f\"Mode = {mode}\")"
   ]
  },
  {
   "cell_type": "markdown",
   "id": "26b6275d-ddfe-4d7f-a792-cf449d1d5201",
   "metadata": {
    "editable": true,
    "slideshow": {
     "slide_type": ""
    },
    "tags": []
   },
   "source": [
    "#### Mean - Python (long way)\n",
    "Average in a set of values"
   ]
  },
  {
   "cell_type": "code",
   "execution_count": 5,
   "id": "5a99364b-dd6a-4c68-86bf-b5c846bc3f6a",
   "metadata": {
    "editable": true,
    "slideshow": {
     "slide_type": ""
    },
    "tags": []
   },
   "outputs": [
    {
     "name": "stdout",
     "output_type": "stream",
     "text": [
      "79.4\n"
     ]
    }
   ],
   "source": [
    "grades = [85,93,45,89,85]\n",
    "mean = sum(grades)/len(grades)\n",
    "print(mean)"
   ]
  },
  {
   "cell_type": "markdown",
   "id": "7f69826d-250c-4c5f-b007-cc78f79da5c8",
   "metadata": {},
   "source": [
    "#### Median - Python (long way)\n",
    "The middle value when all the values are arranged in sorted order"
   ]
  },
  {
   "cell_type": "markdown",
   "id": "bbe423df-cae7-476b-a735-a4408e48869b",
   "metadata": {
    "editable": true,
    "slideshow": {
     "slide_type": ""
    },
    "tags": []
   },
   "source": [
    "grades = [85,93,45,89,85]\n",
    "sorted_grades = sorted(grades)\n",
    "print(sorted_grades)\n",
    "\n",
    "n = len(grades)\n",
    "median = 0\n",
    "\n",
    "if n % 2 == 0:\n",
    "    median_1 = sorted_grades[n//2]\n",
    "    median_2 = sorted_grades[n//2 - 1]\n",
    "    median = (median_1 + median_2) / 2\n",
    "else:\n",
    "    median = sorted_grades[n//2]\n",
    "print(median)"
   ]
  },
  {
   "cell_type": "markdown",
   "id": "53186d7f-5d3a-4a7b-8fde-10b8f139ad84",
   "metadata": {},
   "source": [
    "#### Mode - Python (long way)\n",
    "The most frequently occuring value"
   ]
  },
  {
   "cell_type": "code",
   "execution_count": 9,
   "id": "c4d1710c-c2e2-4834-ac47-d77ea5c0680a",
   "metadata": {},
   "outputs": [],
   "source": [
    "# the code here would require collections library and the use of dictionary.\n",
    "# For our purposes, we will instead use statistics library (see below)."
   ]
  },
  {
   "cell_type": "markdown",
   "id": "63ec40e0-495b-4c04-bd3a-f919e5182ad9",
   "metadata": {},
   "source": [
    "### Variation (Population)"
   ]
  },
  {
   "cell_type": "markdown",
   "id": "c2c8d8f9-657f-48b8-9d6d-287a20af70b3",
   "metadata": {},
   "source": [
    "#### Population Variance & STD - 'Statistics' Module\n",
    "$$\\LARGE \\sigma^2 = \\frac{\\sum(x-\\mu)^2}{N}$$\n",
    "$\\sigma^2$ ~ population variance\n",
    "\n",
    "$\\sigma$ ~ population standard deviation\n",
    "\n",
    "$x$ ~ value of each element\n",
    "\n",
    "$\\mu$ ~ population mean\n",
    "\n",
    "$N$ ~ population size\n"
   ]
  },
  {
   "cell_type": "code",
   "execution_count": 42,
   "id": "6f81d73a-0bfd-476f-b5a8-63d3a401ae64",
   "metadata": {},
   "outputs": [
    {
     "data": {
      "text/plain": [
       "4.489795918367347"
      ]
     },
     "execution_count": 42,
     "metadata": {},
     "output_type": "execute_result"
    }
   ],
   "source": [
    "# Calculating Population Variance with 'statistics'\n",
    "import statistics as stats\n",
    "stats.pvariance([1,6,2,5,6,7,3])"
   ]
  },
  {
   "cell_type": "code",
   "execution_count": 44,
   "id": "3521c011-7fd6-4591-b34c-de6e3c0ef666",
   "metadata": {},
   "outputs": [
    {
     "data": {
      "text/plain": [
       "2.1189138534559038"
      ]
     },
     "execution_count": 44,
     "metadata": {},
     "output_type": "execute_result"
    }
   ],
   "source": [
    "# Calculating Population Standard Deviation with 'statistics'\n",
    "import statistics as stats\n",
    "stats.pstdev([1,6,2,5,6,7,3])"
   ]
  }
 ],
 "metadata": {
  "kernelspec": {
   "display_name": "Python [conda env:base] *",
   "language": "python",
   "name": "conda-base-py"
  },
  "language_info": {
   "codemirror_mode": {
    "name": "ipython",
    "version": 3
   },
   "file_extension": ".py",
   "mimetype": "text/x-python",
   "name": "python",
   "nbconvert_exporter": "python",
   "pygments_lexer": "ipython3",
   "version": "3.12.3"
  }
 },
 "nbformat": 4,
 "nbformat_minor": 5
}
