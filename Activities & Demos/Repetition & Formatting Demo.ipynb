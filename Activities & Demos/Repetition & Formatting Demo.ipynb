{
 "cells": [
  {
   "cell_type": "markdown",
   "id": "e9b74f2a-fc0d-4bac-ae33-5e5946a4abec",
   "metadata": {},
   "source": [
    "## Python Program Structures Demo (Module 2)"
   ]
  },
  {
   "cell_type": "markdown",
   "id": "9f0eb36c-7976-4cfe-ab99-6b18bd4f90d4",
   "metadata": {},
   "source": [
    "#### Sequence-Controlled Repitition - Class Average\n",
    "Calculate the average of the following grades: 98, 76, 71, 87, 83, 90, 57"
   ]
  },
  {
   "cell_type": "code",
   "execution_count": 13,
   "id": "d73f1010-b477-42be-9e9b-5fa83802e9c8",
   "metadata": {},
   "outputs": [
    {
     "name": "stdout",
     "output_type": "stream",
     "text": [
      "Average:  80.28571428571429\n"
     ]
    }
   ],
   "source": [
    "grades = [98,76,71,87,83,90,57]\n",
    "total = 0\n",
    "for grade in grades:\n",
    "    total += grade\n",
    "avg = total / len(grades)\n",
    "print(\"Average: \",str(avg))"
   ]
  },
  {
   "cell_type": "markdown",
   "id": "44bc2d49-d407-4b90-ae1e-ab24b41b8c44",
   "metadata": {},
   "source": [
    "#### Sentinel-Controlled Repitition - Class Average\n",
    "Calculate the average of a user-defined set of grades"
   ]
  },
  {
   "cell_type": "code",
   "execution_count": 6,
   "id": "a442cb09-72f1-4642-8016-98b18336099a",
   "metadata": {},
   "outputs": [
    {
     "name": "stdout",
     "output_type": "stream",
     "text": [
      "Enter grades and enter 'done' when finished...\n"
     ]
    },
    {
     "name": "stdin",
     "output_type": "stream",
     "text": [
      ">  4\n",
      ">  1\n",
      ">  17\n",
      ">  done\n"
     ]
    },
    {
     "name": "stdout",
     "output_type": "stream",
     "text": [
      "Average = 7.333333333333333\n"
     ]
    }
   ],
   "source": [
    "print(\"Enter grades and enter 'done' when finished...\")\n",
    "grades = []\n",
    "total = 0\n",
    "\n",
    "while True:\n",
    "    grade = input(\"> \")\n",
    "    if grade == 'done':\n",
    "        break\n",
    "    try:\n",
    "        grade = int(grade)\n",
    "        grades.append(grade)\n",
    "        total += grade\n",
    "    except ValueError:\n",
    "        print(\"(enter an integer or 'done')...\")\n",
    "\n",
    "if len(grades) > 0:\n",
    "    avg = total / len(grades)\n",
    "    print(f\"Average = {avg}\")\n",
    "else:\n",
    "    print(\"No grades were given...\")"
   ]
  },
  {
   "cell_type": "markdown",
   "id": "7ccb4ebf-0a31-4264-9274-3d9c6c0cbb9d",
   "metadata": {},
   "source": [
    "#### Decimal Class & Formatting - Compound Interest\n",
    "A person invests $1000 in a savings account yielding 5% interest. Assuming that the person leaves all interest on deposit in the account, calculate and display the amount of money in the account at the end of each year for 10 years. Use the following formula:\n",
    "\n",
    "$a=p(1+r)^n$\n",
    "\n",
    "where:\n",
    "\n",
    "p = initial amount invested\n",
    "\n",
    "r = annual interest rate\n",
    "\n",
    "n = number of years\n",
    "\n",
    "a = amount on depsit at the end of $n^{th}$ year"
   ]
  },
  {
   "cell_type": "code",
   "execution_count": 55,
   "id": "41892037-35d2-4d26-a327-53fe91fc99db",
   "metadata": {},
   "outputs": [
    {
     "name": "stdout",
     "output_type": "stream",
     "text": [
      " 1   1050.00\n",
      " 2   1102.50\n",
      " 3   1157.62\n",
      " 4   1215.51\n",
      " 5   1276.28\n",
      " 6   1340.10\n",
      " 7   1407.10\n",
      " 8   1477.46\n",
      " 9   1551.33\n",
      "10   1628.89\n"
     ]
    }
   ],
   "source": [
    "from decimal import Decimal\n",
    "\n",
    "principle = Decimal('1000.00')\n",
    "interest = Decimal('0.05')\n",
    "\n",
    "for year in range(1,11):\n",
    "    deposit = principle * (1 + interest) ** year\n",
    "    print(f\"{year:>2}{deposit:>10.2f}\")"
   ]
  }
 ],
 "metadata": {
  "kernelspec": {
   "display_name": "Python [conda env:base] *",
   "language": "python",
   "name": "conda-base-py"
  },
  "language_info": {
   "codemirror_mode": {
    "name": "ipython",
    "version": 3
   },
   "file_extension": ".py",
   "mimetype": "text/x-python",
   "name": "python",
   "nbconvert_exporter": "python",
   "pygments_lexer": "ipython3",
   "version": "3.12.3"
  }
 },
 "nbformat": 4,
 "nbformat_minor": 5
}
